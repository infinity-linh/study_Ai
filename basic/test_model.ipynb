{
 "cells": [
  {
   "cell_type": "code",
   "execution_count": 56,
   "metadata": {},
   "outputs": [],
   "source": [
    "# !pip install pillow numpy torch opencv-python\n"
   ]
  },
  {
   "cell_type": "code",
   "execution_count": 57,
   "metadata": {},
   "outputs": [],
   "source": [
    "from PIL import Image\n",
    "import numpy as np\n",
    "import glob as glob\n",
    "import cv2\n",
    "import torch\n",
    "from PIL import Image\n",
    "from model.srcnn import SRCNN\n",
    "from model.sr_resnet import SRResNet\n",
    "import random\n",
    "\n",
    "# TRAIN_BATCH_SIZE = 16\n",
    "# TEST_BATCH_SIZE = 1\n",
    "# SHOW_PATCHES = True\n",
    "# STRIDE = 100\n",
    "# SIZE = 32"
   ]
  },
  {
   "cell_type": "code",
   "execution_count": 58,
   "metadata": {},
   "outputs": [],
   "source": [
    "torch.cuda.empty_cache()"
   ]
  },
  {
   "cell_type": "code",
   "execution_count": 59,
   "metadata": {},
   "outputs": [
    {
     "name": "stdout",
     "output_type": "stream",
     "text": [
      "cpu\n"
     ]
    },
    {
     "data": {
      "text/plain": [
       "SRCNN(\n",
       "  (conv1): Conv2d(3, 64, kernel_size=(9, 9), stride=(1, 1), padding=(4, 4))\n",
       "  (relu1): ReLU(inplace=True)\n",
       "  (conv2): Conv2d(64, 32, kernel_size=(5, 5), stride=(1, 1), padding=(2, 2))\n",
       "  (relu2): ReLU(inplace=True)\n",
       "  (conv3): Conv2d(32, 3, kernel_size=(5, 5), stride=(1, 1), padding=(2, 2))\n",
       ")"
      ]
     },
     "execution_count": 59,
     "metadata": {},
     "output_type": "execute_result"
    }
   ],
   "source": [
    "# device = 'cuda:0'\n",
    "device = 'cpu'\n",
    "print(device)\n",
    "model = SRCNN().to(device)\n",
    "# model = SRResNet(2).to(device)\n",
    "model.load_state_dict(torch.load(\"/media/hero/Study/User/Study/data/model_out/image_out/best_train.pth\", map_location=torch.device('cpu')))\n",
    "# model.load_state_dict(torch.load(\"/media/hero/Study/User/Study/data/model_out/model_/model_upscale_srcnn.pth\"))\n",
    "model.eval()"
   ]
  },
  {
   "cell_type": "code",
   "execution_count": 60,
   "metadata": {},
   "outputs": [
    {
     "name": "stdout",
     "output_type": "stream",
     "text": [
      "(1024, 1024, 3)\n",
      "(1024, 1024, 3)\n",
      "(1024, 1024, 3)\n",
      "(1024, 1024, 3)\n",
      "(604, 604, 3)\n",
      "(604, 606, 3)\n",
      "(606, 604, 3)\n",
      "(606, 606, 3)\n",
      "(936, 1200, 3)\n"
     ]
    }
   ],
   "source": [
    "import os\n",
    "# scale = 10\n",
    "video_name = 'outputs/video.avi'\n",
    "path_test = \"/media/hero/Study/User/Project/image_processing/image_general/processed/\"\n",
    "paths = os.listdir(path_test)\n",
    "# print(paths)\n",
    "upscale = 2\n",
    "frame = cv2.imread(path_test + paths[0])\n",
    "height, width, layers = frame.shape\n",
    "\n",
    "video = cv2.VideoWriter(video_name, 0, 1, (width,height))\n",
    "\n",
    "\n",
    "for idx, path in enumerate(paths):\n",
    "    path = path_test + path\n",
    "    # image = Image.open(path).convert('RGB')\n",
    "    # image = cv2.cvtColor(image, cv2.COLOR_RGB2BGR)\n",
    "    image = cv2.imread(path)\n",
    "    image = cv2.resize(image, (image.shape[1]*upscale, image.shape[0]*upscale))\n",
    "    image = np.array(image, dtype=np.float32)\n",
    "    image = image/255\n",
    "    image = image.transpose([2, 0, 1])\n",
    "    image_processed = torch.tensor([image], dtype=torch.float, device=device)\n",
    "    outputs = model(image_processed)\n",
    "    # print(outputs.shape)\n",
    "    out = np.array(outputs.detach().numpy()[0].T*255, dtype=np.uint8)\n",
    "    out = out.transpose([1,0,2])\n",
    "    # idx = random.randrange(1,100)\n",
    "    print(out.shape)\n",
    "    test = f\"/media/hero/Study/User/Study/data/model_out/images_video/Image_high_quality_{idx}.png\"\n",
    "    # print(torch.from_numpy(np.asarray(outputs.T)))\n",
    "\n",
    "    cv2.imwrite(test, out)\n",
    "    video.write(out)\n",
    "# cv2.imshow(\"image_high_quality\", out)\n",
    "# cv2.waitKey(0)\n",
    "cv2.destroyAllWindows()\n",
    "video.release()\n",
    "\n"
   ]
  }
 ],
 "metadata": {
  "kernelspec": {
   "display_name": "base",
   "language": "python",
   "name": "python3"
  },
  "language_info": {
   "codemirror_mode": {
    "name": "ipython",
    "version": 3
   },
   "file_extension": ".py",
   "mimetype": "text/x-python",
   "name": "python",
   "nbconvert_exporter": "python",
   "pygments_lexer": "ipython3",
   "version": "3.8.16"
  },
  "orig_nbformat": 4
 },
 "nbformat": 4,
 "nbformat_minor": 2
}
