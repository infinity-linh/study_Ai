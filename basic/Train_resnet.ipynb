{
 "cells": [
  {
   "cell_type": "code",
   "execution_count": null,
   "metadata": {},
   "outputs": [],
   "source": [
    "import matplotlib.pyplot as plt\n",
    "import os\n",
    "from torch.utils.data import DataLoader\n",
    "from torchvision import datasets\n",
    "from torchvision.transforms import ToTensor\n",
    "from tqdm import tqdm\n",
    "import torch\n",
    "from model.res_net import Res_Net\n",
    "import torch.nn as nn\n",
    "import torch.optim as optim\n",
    "import argparse\n",
    "import numpy as np\n",
    "import random"
   ]
  },
  {
   "cell_type": "code",
   "execution_count": 18,
   "metadata": {},
   "outputs": [
    {
     "name": "stdout",
     "output_type": "stream",
     "text": [
      "Files already downloaded and verified\n",
      "Files already downloaded and verified\n"
     ]
    },
    {
     "data": {
      "text/plain": [
       "torch.Size([3, 32, 32])"
      ]
     },
     "execution_count": 18,
     "metadata": {},
     "output_type": "execute_result"
    }
   ],
   "source": [
    "dataset_train = datasets.CIFAR10(\n",
    "    root='D:/User/Study/data',\n",
    "    train=True,\n",
    "    download=True,\n",
    "    transform=ToTensor(),\n",
    ")\n",
    "# CIFAR10 validation dataset.\n",
    "dataset_valid = datasets.CIFAR10(\n",
    "    root='D:/User/Study/data',\n",
    "    train=False,\n",
    "    download=True,\n",
    "    transform=ToTensor(),\n",
    ")\n",
    "data, label = dataset_train[1]\n",
    "data.shape"
   ]
  },
  {
   "cell_type": "code",
   "execution_count": 20,
   "metadata": {},
   "outputs": [],
   "source": [
    "plt.style.use('ggplot')\n",
    "def get_data(batch_size=64):\n",
    "    # CIFAR10 training dataset.\n",
    "    dataset_train = datasets.CIFAR10(\n",
    "        root='D:/User/Study/data',\n",
    "        train=True,\n",
    "        download=True,\n",
    "        transform=ToTensor(),\n",
    "    )\n",
    "    # CIFAR10 validation dataset.\n",
    "    dataset_valid = datasets.CIFAR10(\n",
    "        root='D:/User/Study/data',\n",
    "        train=False,\n",
    "        download=True,\n",
    "        transform=ToTensor(),\n",
    "    )\n",
    "    # Create data loaders.\n",
    "    train_loader = DataLoader(\n",
    "        dataset_train, \n",
    "        batch_size=batch_size,\n",
    "        shuffle=True\n",
    "    )\n",
    "    valid_loader = DataLoader(\n",
    "        dataset_valid, \n",
    "        batch_size=batch_size,\n",
    "        shuffle=False\n",
    "    )\n",
    "    return train_loader, valid_loader"
   ]
  },
  {
   "cell_type": "code",
   "execution_count": null,
   "metadata": {},
   "outputs": [],
   "source": [
    "device = torch.device('cuda:0' if torch.cuda.is_available() else 'cpu')\n",
    "print(device)"
   ]
  },
  {
   "cell_type": "code",
   "execution_count": 25,
   "metadata": {},
   "outputs": [
    {
     "name": "stdout",
     "output_type": "stream",
     "text": [
      "Files already downloaded and verified\n",
      "Files already downloaded and verified\n",
      "torch.Size([64, 3, 32, 32]) tensor(4)\n"
     ]
    },
    {
     "data": {
      "image/png": "[encoded data removed]",
      "text/plain": [
       "<Figure size 640x480 with 1 Axes>"
      ]
     },
     "metadata": {},
     "output_type": "display_data"
    }
   ],
   "source": [
    "train_set, valid_set = get_data()\n",
    "\n",
    "for i, data in enumerate(train_set):\n",
    "    image, label = data\n",
    "    image = image.to(device)\n",
    "    print(image.shape, label[1])\n",
    "    plt.imshow(image[1].T)\n",
    "    plt.show()\n",
    "    if i >= 0:\n",
    "        break"
   ]
  },
  {
   "cell_type": "code",
   "execution_count": null,
   "metadata": {},
   "outputs": [],
   "source": [
    "def study(model, trainloader, optimizer, losses, device):\n",
    "    model.train()\n",
    "    train_loss = 0\n",
    "    train_correct = 0\n",
    "    # counter = 0\n",
    "    print (\"@@@ Start train model @@@\")\n",
    "    for i, data in tqdm(enumerate(trainloader), total=len(trainloader)):\n",
    "        # counter += 1\n",
    "        image, label = data\n",
    "        image = image.to(device)\n",
    "        label =label.to(device)\n",
    "        # print(image.shape)\n",
    "        # print(label.shape)\n",
    "        optimizer.zero_grad()\n",
    "        label_pre = model(image)\n",
    "        # print(label_pre.shape)\n",
    "        loss = losses(label_pre, label)\n",
    "        train_loss += loss.item()\n",
    "        # print(train_loss)\n",
    "        _, preds = torch.max(label_pre.data, 1)\n",
    "        train_correct += (preds == label).sum().item()\n",
    "        loss.backward()\n",
    "        optimizer.step()\n",
    "        # print(preds)\n",
    "    epoch_loss = train_loss / len(trainloader)\n",
    "    epoch_acc = 100. * (train_correct / len(trainloader.dataset))\n",
    "    return epoch_loss, epoch_acc\n"
   ]
  },
  {
   "cell_type": "code",
   "execution_count": null,
   "metadata": {},
   "outputs": [],
   "source": [
    "def validate(model, valloader, losses, device):\n",
    "    val_loss = 0\n",
    "    val_correct = 0\n",
    "\n",
    "    for i, data in tqdm(enumerate(valloader), total=len(valloader)):\n",
    "\n",
    "        image, label = data\n",
    "        image = image.to(device)\n",
    "        label =label.to(device)\n",
    "        # print(image.shape)\n",
    "        # print(label.shape)\n",
    "        label_pre = model(image)\n",
    "        # print(label_pre.shape)\n",
    "        loss = losses(label_pre, label)\n",
    "        val_loss += loss.item()\n",
    "        # print(train_loss)\n",
    "        _, preds = torch.max(label_pre.data, 1)\n",
    "        val_correct += (preds == label).sum().item()\n",
    "        # print(preds)\n",
    "    epoch_loss = val_loss / len(valloader)\n",
    "    epoch_acc = 100. * (val_correct / len(valloader.dataset))\n",
    "    return epoch_loss, epoch_acc"
   ]
  },
  {
   "cell_type": "code",
   "execution_count": null,
   "metadata": {},
   "outputs": [],
   "source": [
    "batch_size = 256\n",
    "train_set, valid_set = get_data(batch_size=batch_size)\n",
    "learning_rate = 0.01\n",
    "model = Res_Net(img_channels=3, num_layers=18, num_classes=10)\n",
    "total_params = sum(p.numel() for p in model.parameters())\n",
    "print(f\"{total_params:,} total parameters.\")\n",
    "total_trainable_params = sum(\n",
    "    p.numel() for p in model.parameters() if p.requires_grad)\n",
    "print(f\"{total_trainable_params:,} training parameters.\")\n",
    "\n",
    "optimizer = optim.SGD(model.parameters(), lr=learning_rate)\n",
    "# Loss function.\n",
    "losses = nn.CrossEntropyLoss()"
   ]
  },
  {
   "cell_type": "code",
   "execution_count": 8,
   "metadata": {},
   "outputs": [
    {
     "name": "stderr",
     "output_type": "stream",
     "text": [
      "  9%|▊         | 17/196 [00:45<08:02,  2.70s/it]\n"
     ]
    },
    {
     "ename": "KeyboardInterrupt",
     "evalue": "",
     "output_type": "error",
     "traceback": [
      "\u001b[1;31m---------------------------------------------------------------------------\u001b[0m",
      "\u001b[1;31mKeyboardInterrupt\u001b[0m                         Traceback (most recent call last)",
      "Cell \u001b[1;32mIn[8], line 2\u001b[0m\n\u001b[0;32m      1\u001b[0m \u001b[39mfor\u001b[39;00m i \u001b[39min\u001b[39;00m \u001b[39mrange\u001b[39m(\u001b[39m3\u001b[39m):\n\u001b[1;32m----> 2\u001b[0m     train_acc, train_loss \u001b[39m=\u001b[39m study(model, train_set, optimizer, losses, device)\n\u001b[0;32m      3\u001b[0m     val_acc, val_loss \u001b[39m=\u001b[39m validate(model, valid_set, losses, device)\n\u001b[0;32m      4\u001b[0m     \u001b[39mprint\u001b[39m(train_acc, train_loss)\n",
      "Cell \u001b[1;32mIn[5], line 22\u001b[0m, in \u001b[0;36mstudy\u001b[1;34m(model, trainloader, optimizer, losses, device)\u001b[0m\n\u001b[0;32m     20\u001b[0m _, preds \u001b[39m=\u001b[39m torch\u001b[39m.\u001b[39mmax(label_pre\u001b[39m.\u001b[39mdata, \u001b[39m1\u001b[39m)\n\u001b[0;32m     21\u001b[0m train_correct \u001b[39m+\u001b[39m\u001b[39m=\u001b[39m (preds \u001b[39m==\u001b[39m label)\u001b[39m.\u001b[39msum()\u001b[39m.\u001b[39mitem()\n\u001b[1;32m---> 22\u001b[0m loss\u001b[39m.\u001b[39;49mbackward()\n\u001b[0;32m     23\u001b[0m optimizer\u001b[39m.\u001b[39mstep()\n\u001b[0;32m     24\u001b[0m \u001b[39m# print(preds)\u001b[39;00m\n",
      "File \u001b[1;32md:\\Program\\anaconda\\envs\\caption_image\\lib\\site-packages\\torch\\_tensor.py:488\u001b[0m, in \u001b[0;36mTensor.backward\u001b[1;34m(self, gradient, retain_graph, create_graph, inputs)\u001b[0m\n\u001b[0;32m    478\u001b[0m \u001b[39mif\u001b[39;00m has_torch_function_unary(\u001b[39mself\u001b[39m):\n\u001b[0;32m    479\u001b[0m     \u001b[39mreturn\u001b[39;00m handle_torch_function(\n\u001b[0;32m    480\u001b[0m         Tensor\u001b[39m.\u001b[39mbackward,\n\u001b[0;32m    481\u001b[0m         (\u001b[39mself\u001b[39m,),\n\u001b[1;32m   (...)\u001b[0m\n\u001b[0;32m    486\u001b[0m         inputs\u001b[39m=\u001b[39minputs,\n\u001b[0;32m    487\u001b[0m     )\n\u001b[1;32m--> 488\u001b[0m torch\u001b[39m.\u001b[39;49mautograd\u001b[39m.\u001b[39;49mbackward(\n\u001b[0;32m    489\u001b[0m     \u001b[39mself\u001b[39;49m, gradient, retain_graph, create_graph, inputs\u001b[39m=\u001b[39;49minputs\n\u001b[0;32m    490\u001b[0m )\n",
      "File \u001b[1;32md:\\Program\\anaconda\\envs\\caption_image\\lib\\site-packages\\torch\\autograd\\__init__.py:197\u001b[0m, in \u001b[0;36mbackward\u001b[1;34m(tensors, grad_tensors, retain_graph, create_graph, grad_variables, inputs)\u001b[0m\n\u001b[0;32m    192\u001b[0m     retain_graph \u001b[39m=\u001b[39m create_graph\n\u001b[0;32m    194\u001b[0m \u001b[39m# The reason we repeat same the comment below is that\u001b[39;00m\n\u001b[0;32m    195\u001b[0m \u001b[39m# some Python versions print out the first line of a multi-line function\u001b[39;00m\n\u001b[0;32m    196\u001b[0m \u001b[39m# calls in the traceback and some print out the last line\u001b[39;00m\n\u001b[1;32m--> 197\u001b[0m Variable\u001b[39m.\u001b[39;49m_execution_engine\u001b[39m.\u001b[39;49mrun_backward(  \u001b[39m# Calls into the C++ engine to run the backward pass\u001b[39;49;00m\n\u001b[0;32m    198\u001b[0m     tensors, grad_tensors_, retain_graph, create_graph, inputs,\n\u001b[0;32m    199\u001b[0m     allow_unreachable\u001b[39m=\u001b[39;49m\u001b[39mTrue\u001b[39;49;00m, accumulate_grad\u001b[39m=\u001b[39;49m\u001b[39mTrue\u001b[39;49;00m)\n",
      "\u001b[1;31mKeyboardInterrupt\u001b[0m: "
     ]
    }
   ],
   "source": [
    "for i in range(3):\n",
    "    train_acc, train_loss = study(model, train_set, optimizer, losses, device)\n",
    "    val_acc, val_loss = validate(model, valid_set, losses, device)\n",
    "    print(train_acc, train_loss)\n",
    "    print(val_acc, val_loss)\n",
    "\n"
   ]
  }
 ],
 "metadata": {
  "kernelspec": {
   "display_name": "caption_image",
   "language": "python",
   "name": "python3"
  },
  "language_info": {
   "codemirror_mode": {
    "name": "ipython",
    "version": 3
   },
   "file_extension": ".py",
   "mimetype": "text/x-python",
   "name": "python",
   "nbconvert_exporter": "python",
   "pygments_lexer": "ipython3",
   "version": "3.8.0"
  },
  "orig_nbformat": 4
 },
 "nbformat": 4,
 "nbformat_minor": 2
}
