{
 "cells": [
  {
   "cell_type": "code",
   "execution_count": null,
   "metadata": {},
   "outputs": [],
   "source": [
    "import matplotlib.pyplot as plt\n",
    "import os\n",
    "from torch.utils.data import DataLoader\n",
    "from torchvision import datasets\n",
    "from torchvision.transforms import ToTensor\n",
    "from tqdm import tqdm\n",
    "import torch\n",
    "from model.res_net import Res_Net\n",
    "import torch.nn as nn\n",
    "import torch.optim as optim\n",
    "import argparse\n",
    "import numpy as np\n",
    "import random"
   ]
  },
  {
   "cell_type": "code",
   "execution_count": null,
   "metadata": {},
   "outputs": [],
   "source": [
    "dataset_train = datasets.CIFAR10(\n",
    "    root='D:/User/Study/data',\n",
    "    train=True,\n",
    "    download=True,\n",
    "    transform=ToTensor(),\n",
    ")\n",
    "# CIFAR10 validation dataset.\n",
    "dataset_valid = datasets.CIFAR10(\n",
    "    root='D:/User/Study/data',\n",
    "    train=False,\n",
    "    download=True,\n",
    "    transform=ToTensor(),\n",
    ")\n",
    "data, label = dataset_train[1]\n",
    "data.shape"
   ]
  },
  {
   "cell_type": "code",
   "execution_count": null,
   "metadata": {},
   "outputs": [],
   "source": [
    "plt.style.use('ggplot')\n",
    "def get_data(batch_size=64):\n",
    "    # CIFAR10 training dataset.\n",
    "    dataset_train = datasets.CIFAR10(\n",
    "        root='D:/User/Study/data',\n",
    "        train=True,\n",
    "        download=True,\n",
    "        transform=ToTensor(),\n",
    "    )\n",
    "    # CIFAR10 validation dataset.\n",
    "    dataset_valid = datasets.CIFAR10(\n",
    "        root='D:/User/Study/data',\n",
    "        train=False,\n",
    "        download=True,\n",
    "        transform=ToTensor(),\n",
    "    )\n",
    "    # Create data loaders.\n",
    "    train_loader = DataLoader(\n",
    "        dataset_train, \n",
    "        batch_size=batch_size,\n",
    "        shuffle=True\n",
    "    )\n",
    "    valid_loader = DataLoader(\n",
    "        dataset_valid, \n",
    "        batch_size=batch_size,\n",
    "        shuffle=False\n",
    "    )\n",
    "    return train_loader, valid_loader"
   ]
  },
  {
   "cell_type": "code",
   "execution_count": null,
   "metadata": {},
   "outputs": [],
   "source": [
    "device = torch.device('cuda:0' if torch.cuda.is_available() else 'cpu')\n",
    "print(device)"
   ]
  },
  {
   "cell_type": "code",
   "execution_count": null,
   "metadata": {},
   "outputs": [],
   "source": [
    "torch.cuda.is_available()"
   ]
  },
  {
   "cell_type": "code",
   "execution_count": null,
   "metadata": {},
   "outputs": [],
   "source": [
    "train_set, valid_set = get_data()\n",
    "\n",
    "for i, data in enumerate(train_set):\n",
    "    image, label = data\n",
    "    image = image.to(device)\n",
    "    print(image.shape, label[1])\n",
    "    plt.imshow(image[1].T)\n",
    "    plt.show()\n",
    "    if i >= 0:\n",
    "        break"
   ]
  },
  {
   "cell_type": "code",
   "execution_count": null,
   "metadata": {},
   "outputs": [],
   "source": [
    "def study(model, trainloader, optimizer, losses, device):\n",
    "    model.train()\n",
    "    train_loss = 0\n",
    "    train_correct = 0\n",
    "    # counter = 0\n",
    "    print (\"@@@ Start train model @@@\")\n",
    "    for i, data in tqdm(enumerate(trainloader), total=len(trainloader)):\n",
    "        # counter += 1\n",
    "        image, label = data\n",
    "        image = image.to(device)\n",
    "        label =label.to(device)\n",
    "        # print(image.shape)\n",
    "        # print(label.shape)\n",
    "        optimizer.zero_grad()\n",
    "        label_pre = model(image)\n",
    "        # print(label_pre.shape)\n",
    "        loss = losses(label_pre, label)\n",
    "        train_loss += loss.item()\n",
    "        # print(train_loss)\n",
    "        _, preds = torch.max(label_pre.data, 1)\n",
    "        train_correct += (preds == label).sum().item()\n",
    "        loss.backward()\n",
    "        optimizer.step()\n",
    "        # print(preds)\n",
    "    epoch_loss = train_loss / len(trainloader)\n",
    "    epoch_acc = 100. * (train_correct / len(trainloader.dataset))\n",
    "    return epoch_loss, epoch_acc\n"
   ]
  },
  {
   "cell_type": "code",
   "execution_count": null,
   "metadata": {},
   "outputs": [],
   "source": [
    "def validate(model, valloader, losses, device):\n",
    "    val_loss = 0\n",
    "    val_correct = 0\n",
    "\n",
    "    for i, data in tqdm(enumerate(valloader), total=len(valloader)):\n",
    "\n",
    "        image, label = data\n",
    "        image = image.to(device)\n",
    "        label =label.to(device)\n",
    "        # print(image.shape)\n",
    "        # print(label.shape)\n",
    "        label_pre = model(image)\n",
    "        # print(label_pre.shape)\n",
    "        loss = losses(label_pre, label)\n",
    "        val_loss += loss.item()\n",
    "        # print(train_loss)\n",
    "        _, preds = torch.max(label_pre.data, 1)\n",
    "        val_correct += (preds == label).sum().item()\n",
    "        # print(preds)\n",
    "    epoch_loss = val_loss / len(valloader)\n",
    "    epoch_acc = 100. * (val_correct / len(valloader.dataset))\n",
    "    return epoch_loss, epoch_acc"
   ]
  },
  {
   "cell_type": "code",
   "execution_count": null,
   "metadata": {},
   "outputs": [],
   "source": [
    "batch_size = 256\n",
    "train_set, valid_set = get_data(batch_size=batch_size)\n",
    "learning_rate = 0.01\n",
    "model = Res_Net(img_channels=3, num_layers=18, num_classes=10)\n",
    "total_params = sum(p.numel() for p in model.parameters())\n",
    "print(f\"{total_params:,} total parameters.\")\n",
    "total_trainable_params = sum(\n",
    "    p.numel() for p in model.parameters() if p.requires_grad)\n",
    "print(f\"{total_trainable_params:,} training parameters.\")\n",
    "\n",
    "optimizer = optim.SGD(model.parameters(), lr=learning_rate)\n",
    "# Loss function.\n",
    "losses = nn.CrossEntropyLoss()"
   ]
  },
  {
   "cell_type": "code",
   "execution_count": null,
   "metadata": {},
   "outputs": [],
   "source": []
  },
  {
   "cell_type": "code",
   "execution_count": null,
   "metadata": {},
   "outputs": [],
   "source": [
    "for i in range(3):\n",
    "    train_acc, train_loss = study(model, train_set, optimizer, losses, device)\n",
    "    val_acc, val_loss = validate(model, valid_set, losses, device)\n",
    "    print(train_acc, train_loss)\n",
    "    print(val_acc, val_loss)\n",
    "\n"
   ]
  }
 ],
 "metadata": {
  "kernelspec": {
   "display_name": "caption_image",
   "language": "python",
   "name": "python3"
  },
  "language_info": {
   "codemirror_mode": {
    "name": "ipython",
    "version": 3
   },
   "file_extension": ".py",
   "mimetype": "text/x-python",
   "name": "python",
   "nbconvert_exporter": "python",
   "pygments_lexer": "ipython3",
   "version": "3.8.0"
  },
  "orig_nbformat": 4
 },
 "nbformat": 4,
 "nbformat_minor": 2
}
