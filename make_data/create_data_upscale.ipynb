{
 "cells": [
  {
   "cell_type": "code",
   "execution_count": null,
   "metadata": {},
   "outputs": [],
   "source": [
    "from PIL import Image\n",
    "from tqdm import tqdm\n",
    "import matplotlib.pyplot as plt\n",
    "import patchify\n",
    "import numpy as np\n",
    "import matplotlib.gridspec as gridspec\n",
    "import glob as glob\n",
    "import os\n",
    "import cv2\n",
    "\n",
    "STRIDE = 50\n",
    "SHOW_PATCHES = True"
   ]
  },
  {
   "cell_type": "code",
   "execution_count": null,
   "metadata": {},
   "outputs": [],
   "source": [
    "def show_patches(patches):\n",
    "    plt.figure(figsize=(patches.shape[0], patches.shape[1]))\n",
    "    gs = gridspec.GridSpec(patches.shape[0], patches.shape[1])\n",
    "    gs.update(wspace=0.01, hspace=0.02)\n",
    "    counter = 0\n",
    "    for i in range(patches.shape[0]):\n",
    "        for j in range(patches.shape[1]):\n",
    "            ax = plt.subplot(gs[counter])\n",
    "            plt.imshow(patches[i, j, 0, :, :, :])\n",
    "            plt.axis('off')\n",
    "            counter += 1\n",
    "    plt.show()"
   ]
  },
  {
   "cell_type": "code",
   "execution_count": null,
   "metadata": {},
   "outputs": [],
   "source": [
    "def create_patches(\n",
    "    input_paths, out_hr_path, out_lr_path,\n",
    "):\n",
    "    os.makedirs(out_hr_path, exist_ok=True)\n",
    "    os.makedirs(out_lr_path, exist_ok=True)\n",
    "    all_paths = os.listdir(input_paths)\n",
    "    # for input_path in input_paths:\n",
    "    #     all_paths.extend(glob.glob(f\"{input_path}/*\"))\n",
    "    print(f\"Creating patches for {len(all_paths)} images\")\n",
    "    for image_name in tqdm(all_paths, total=len(all_paths)):\n",
    "        image_path = os.path.join(input_paths+\"/\", image_name)\n",
    "        # print(image_path)\n",
    "        image = Image.open(image_path)\n",
    "        image_name = image_name.replace(\".png\", \"\")\n",
    "        w, h = image.size\n",
    "        # Create patches of size (32, 32, 3)\n",
    "        patches = patchify.patchify(np.array(image), (64, 64, 3), STRIDE)\n",
    "\n",
    "        counter = 0\n",
    "        for i in range(patches.shape[0]):\n",
    "            for j in range(patches.shape[1]):\n",
    "                counter += 1\n",
    "                patch = patches[i, j, 0, :, :, :]\n",
    "                patch = cv2.cvtColor(patch, cv2.COLOR_RGB2BGR)\n",
    "                # print(f\"{out_hr_path}/{image_name}_{counter}.png\")\n",
    "                cv2.imwrite(\n",
    "                    f\"{out_hr_path}/{image_name}_{counter}.png\",\n",
    "                    patch\n",
    "                )\n",
    "\n",
    "                h, w, _ = patch.shape\n",
    "                low_res_img = cv2.resize(patch, (int(w*0.2), int(h*0.2)), \n",
    "                                        interpolation=cv2.INTER_CUBIC)\n",
    "\n",
    "                high_res_upscale = cv2.resize(low_res_img, (w, h), \n",
    "                                            interpolation=cv2.INTER_CUBIC)\n",
    "                cv2.imwrite(\n",
    "                    f\"{out_lr_path}/{image_name}_{counter}.png\",\n",
    "                    high_res_upscale\n",
    "                )\n",
    "    if SHOW_PATCHES:\n",
    "        show_patches(patches)"
   ]
  },
  {
   "cell_type": "code",
   "execution_count": null,
   "metadata": {},
   "outputs": [],
   "source": [
    "# input_paths = \"/media/hero/Study/User/Study/data/upscale_image/T91\"\n",
    "input_paths = \"/media/hero/Study/User/Study/Pytorch/make_data/data_crawl\"\n",
    "out_hr_path = \"/media/hero/Study/User/Study/data/upscale_image/t91_hr_patches\"\n",
    "out_lr_path = \"/media/hero/Study/User/Study/data/upscale_image/t91_lr_patches\"\n",
    "create_patches(input_paths, out_hr_path, out_lr_path)"
   ]
  },
  {
   "cell_type": "code",
   "execution_count": null,
   "metadata": {},
   "outputs": [],
   "source": [
    "scale_factor = 0.2\n",
    "os.makedirs('/media/hero/Study/User/Study/data/upscale_image/test_bicubic_rgb_xx', exist_ok=True)\n",
    "os.makedirs('/media/hero/Study/User/Study/data/upscale_image/test_hr_xx', exist_ok=True)\n",
    "save_path_lr = '/media/hero/Study/User/Study/data/upscale_image/test_bicubic_rgb_xx'\n",
    "save_path_hr = '/media/hero/Study/User/Study/data/upscale_image/test_hr_xx'"
   ]
  },
  {
   "cell_type": "code",
   "execution_count": null,
   "metadata": {},
   "outputs": [],
   "source": [
    "input_paths_test = \"/home/hero/Downloads/data_crawl\"\n",
    "for image_name in tqdm(os.listdir(input_paths_test), total=len(os.listdir(input_paths_test))):\n",
    "    image_path = os.path.join(input_paths_test+\"/\", image_name)\n",
    "\n",
    "    # orig_img = Image.open(image_path)\n",
    "    orig_img = cv2.imread(image_path)\n",
    "    # image_name = image_name.replace(\".png\", \"\")\n",
    "    # print(type(orig_img))\n",
    "    w, h = orig_img.shape[:2]\n",
    "    # print(f\"Original image dimensions: {w}, {h}\")\n",
    "    cv2.imwrite(f\"{save_path_lr}/{image_name}\",orig_img)\n",
    "\n",
    "    low_res_img = cv2.resize(orig_img, (int(h*scale_factor), int(w*scale_factor)))\n",
    "    high_res_upscale = cv2.resize(low_res_img, (h, w))\n",
    "    \n",
    "    cv2.imwrite(f\"{save_path_hr}/{image_name}\",high_res_upscale)"
   ]
  }
 ],
 "metadata": {
  "kernelspec": {
   "display_name": "botsort_env",
   "language": "python",
   "name": "python3"
  },
  "language_info": {
   "codemirror_mode": {
    "name": "ipython",
    "version": 3
   },
   "file_extension": ".py",
   "mimetype": "text/x-python",
   "name": "python",
   "nbconvert_exporter": "python",
   "pygments_lexer": "ipython3",
   "version": "3.7.15"
  },
  "orig_nbformat": 4
 },
 "nbformat": 4,
 "nbformat_minor": 2
}
