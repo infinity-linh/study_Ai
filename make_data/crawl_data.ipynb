{
 "cells": [
  {
   "cell_type": "code",
   "execution_count": 7,
   "metadata": {},
   "outputs": [],
   "source": [
    "import random\n",
    "import urllib.request\n",
    "import os\n",
    "def dowload_image(url,idx):\n",
    "    try:\n",
    "        path = \"data_crawl\"\n",
    "        name = path + f\"/image_crawl_{idx}\" +\".jpg\"\n",
    "        \n",
    "        urllib.request.urlretrieve(url, name)\n",
    "    except:\n",
    "        pass"
   ]
  },
  {
   "cell_type": "code",
   "execution_count": 8,
   "metadata": {},
   "outputs": [],
   "source": [
    "# import requests\n",
    "# from bs4 import BeautifulSoup\n",
    "\n",
    "# # URL của trang web cần crawl hình ảnh\n",
    "# URL = \"https://unsplash.com/\"\n",
    "\n",
    "# # thực hiện yêu cầu HTTP và tải nội dung của trang web\n",
    "# response = requests.get(URL)\n",
    "\n",
    "# # tạo đối tượng BeautifulSoup từ nội dung trang web\n",
    "# soup = BeautifulSoup(response.content, 'html.parser')\n",
    "# paths = []\n",
    "\n",
    "# # tìm các thẻ có class là 'oCCRx' (thẻ chứa các hình ảnh)\n",
    "# images = soup.find_all('div', class_='MorZF')\n",
    "\n",
    "# for img in images:\n",
    "#     # lấy URL của hình ảnh từ thuộc tính 'src' của thẻ 'img'\n",
    "#     img_url = img.img['src']\n",
    "#     if img_url not in paths:\n",
    "#     # in URL của hình ảnh\n",
    "#         print(img_url)\n",
    "#         dowload_image(img_url)\n",
    "#     paths.append(img_url)\n"
   ]
  },
  {
   "cell_type": "code",
   "execution_count": 9,
   "metadata": {},
   "outputs": [
    {
     "name": "stderr",
     "output_type": "stream",
     "text": [
      "<>:44: SyntaxWarning: \"is not\" with a literal. Did you mean \"!=\"?\n",
      "<>:44: SyntaxWarning: \"is not\" with a literal. Did you mean \"!=\"?\n",
      "C:\\Users\\Hero\\AppData\\Local\\Temp\\ipykernel_16592\\2360571750.py:44: SyntaxWarning: \"is not\" with a literal. Did you mean \"!=\"?\n",
      "  if \"tB6UZ a5VGX\" in class_name and \"profile\" is not image_link:\n",
      "[WDM] - Downloading: 19.2kB [00:00, 2.31MB/s]                   \n",
      "C:\\Users\\Hero\\AppData\\Local\\Temp\\ipykernel_16592\\2360571750.py:15: DeprecationWarning: executable_path has been deprecated, please pass in a Service object\n",
      "  driver = webdriver.Firefox(executable_path=GeckoDriverManager().install())\n"
     ]
    },
    {
     "name": "stdout",
     "output_type": "stream",
     "text": [
      "[<selenium.webdriver.remote.webelement.WebElement (session=\"99202407-c676-46bd-b091-3eb8ad410a85\", element=\"95b9957a-92cb-48f9-8749-bc3dc9033b81\")>, <selenium.webdriver.remote.webelement.WebElement (session=\"99202407-c676-46bd-b091-3eb8ad410a85\", element=\"7ecfa8e6-76b5-4cd2-a82c-804d43ea5a46\")>, <selenium.webdriver.remote.webelement.WebElement (session=\"99202407-c676-46bd-b091-3eb8ad410a85\", element=\"2bf0160a-84a3-45d3-bc47-aaa9857e5625\")>, <selenium.webdriver.remote.webelement.WebElement (session=\"99202407-c676-46bd-b091-3eb8ad410a85\", element=\"4cca1fe2-6f43-451d-99ef-46bf1f3a437b\")>, <selenium.webdriver.remote.webelement.WebElement (session=\"99202407-c676-46bd-b091-3eb8ad410a85\", element=\"d60a11fd-2c89-4796-89d7-63c6a99d1d09\")>, <selenium.webdriver.remote.webelement.WebElement (session=\"99202407-c676-46bd-b091-3eb8ad410a85\", element=\"bf48a5a3-55fe-459f-a91e-543320bd2160\")>, <selenium.webdriver.remote.webelement.WebElement (session=\"99202407-c676-46bd-b091-3eb8ad410a85\", element=\"67e58a5f-25e9-4336-9f20-ca2e8e2f47e4\")>, <selenium.webdriver.remote.webelement.WebElement (session=\"99202407-c676-46bd-b091-3eb8ad410a85\", element=\"b853857c-7233-40b5-89a1-7d2aca2b46f5\")>, <selenium.webdriver.remote.webelement.WebElement (session=\"99202407-c676-46bd-b091-3eb8ad410a85\", element=\"236c35ff-6f41-41d9-9c89-c0ba8d70e395\")>, <selenium.webdriver.remote.webelement.WebElement (session=\"99202407-c676-46bd-b091-3eb8ad410a85\", element=\"4c1b5fd8-a4fd-40fb-bf75-60b0d8cd8865\")>, <selenium.webdriver.remote.webelement.WebElement (session=\"99202407-c676-46bd-b091-3eb8ad410a85\", element=\"eb1acf1a-cb0c-4773-b6f2-72acc4197770\")>, <selenium.webdriver.remote.webelement.WebElement (session=\"99202407-c676-46bd-b091-3eb8ad410a85\", element=\"4e2f80ae-36bf-444c-8393-d5f4b3478596\")>, <selenium.webdriver.remote.webelement.WebElement (session=\"99202407-c676-46bd-b091-3eb8ad410a85\", element=\"84a6c7ac-30bf-4272-82f6-3ee501779ae7\")>, <selenium.webdriver.remote.webelement.WebElement (session=\"99202407-c676-46bd-b091-3eb8ad410a85\", element=\"411dfb43-246a-4dc4-a6d4-ad08adb5bbf7\")>, <selenium.webdriver.remote.webelement.WebElement (session=\"99202407-c676-46bd-b091-3eb8ad410a85\", element=\"332a1eab-d79e-4803-9276-7aa64cc1b000\")>, <selenium.webdriver.remote.webelement.WebElement (session=\"99202407-c676-46bd-b091-3eb8ad410a85\", element=\"3ae6f95f-7ee1-420d-bab7-e49d4ba822b9\")>, <selenium.webdriver.remote.webelement.WebElement (session=\"99202407-c676-46bd-b091-3eb8ad410a85\", element=\"c720a37a-3f23-4ea2-beb2-859d5a489cf0\")>, <selenium.webdriver.remote.webelement.WebElement (session=\"99202407-c676-46bd-b091-3eb8ad410a85\", element=\"ef3cb4fb-2cd6-4730-9c84-abaa68f2378e\")>, <selenium.webdriver.remote.webelement.WebElement (session=\"99202407-c676-46bd-b091-3eb8ad410a85\", element=\"02bf5693-2db8-4d30-aa3d-4b3c3044e9a7\")>, <selenium.webdriver.remote.webelement.WebElement (session=\"99202407-c676-46bd-b091-3eb8ad410a85\", element=\"f3a82c95-cd98-4861-afeb-8c274133240f\")>, <selenium.webdriver.remote.webelement.WebElement (session=\"99202407-c676-46bd-b091-3eb8ad410a85\", element=\"cce35013-efb5-46a1-a064-052ef855b6d7\")>, <selenium.webdriver.remote.webelement.WebElement (session=\"99202407-c676-46bd-b091-3eb8ad410a85\", element=\"f6f7c591-158a-4386-9f97-de3a25bb4eb8\")>, <selenium.webdriver.remote.webelement.WebElement (session=\"99202407-c676-46bd-b091-3eb8ad410a85\", element=\"d85a288a-88b7-4027-b33d-4b028d926809\")>, <selenium.webdriver.remote.webelement.WebElement (session=\"99202407-c676-46bd-b091-3eb8ad410a85\", element=\"1a4bceb4-729d-4aaf-bb28-6eae0f333060\")>, <selenium.webdriver.remote.webelement.WebElement (session=\"99202407-c676-46bd-b091-3eb8ad410a85\", element=\"1d3af471-0a14-4969-bb4a-0b15e34248e0\")>, <selenium.webdriver.remote.webelement.WebElement (session=\"99202407-c676-46bd-b091-3eb8ad410a85\", element=\"bb1ae0d5-e34f-4dd9-b41a-fe82d1e3af88\")>, <selenium.webdriver.remote.webelement.WebElement (session=\"99202407-c676-46bd-b091-3eb8ad410a85\", element=\"73767e94-a19e-495c-8d34-2f819d46af59\")>, <selenium.webdriver.remote.webelement.WebElement (session=\"99202407-c676-46bd-b091-3eb8ad410a85\", element=\"3554c3aa-b5b1-4c1b-830d-ec545453a550\")>, <selenium.webdriver.remote.webelement.WebElement (session=\"99202407-c676-46bd-b091-3eb8ad410a85\", element=\"38ca27bf-2921-4b36-9727-1af69486e54c\")>, <selenium.webdriver.remote.webelement.WebElement (session=\"99202407-c676-46bd-b091-3eb8ad410a85\", element=\"5870b52d-0c36-42ed-b5f8-302e363a590a\")>, <selenium.webdriver.remote.webelement.WebElement (session=\"99202407-c676-46bd-b091-3eb8ad410a85\", element=\"918e442a-f94f-4ace-80c1-f00ac8629863\")>, <selenium.webdriver.remote.webelement.WebElement (session=\"99202407-c676-46bd-b091-3eb8ad410a85\", element=\"05d6ca22-daf6-459b-9e3d-73e22e390891\")>, <selenium.webdriver.remote.webelement.WebElement (session=\"99202407-c676-46bd-b091-3eb8ad410a85\", element=\"08f50244-af5a-4cfa-8399-d1fc44f726f3\")>, <selenium.webdriver.remote.webelement.WebElement (session=\"99202407-c676-46bd-b091-3eb8ad410a85\", element=\"f7b60a45-1b5e-4e19-906d-bd884bc84a24\")>, <selenium.webdriver.remote.webelement.WebElement (session=\"99202407-c676-46bd-b091-3eb8ad410a85\", element=\"cf8ec59d-6bbf-48c4-afbb-701e2723dc1f\")>, <selenium.webdriver.remote.webelement.WebElement (session=\"99202407-c676-46bd-b091-3eb8ad410a85\", element=\"fa1b605d-71d2-4a72-b068-17ae114a3ebb\")>, <selenium.webdriver.remote.webelement.WebElement (session=\"99202407-c676-46bd-b091-3eb8ad410a85\", element=\"30748169-92a2-40bd-9262-8083402114fc\")>, <selenium.webdriver.remote.webelement.WebElement (session=\"99202407-c676-46bd-b091-3eb8ad410a85\", element=\"493ef51e-97ac-46a4-874b-61bcc1d67c9a\")>, <selenium.webdriver.remote.webelement.WebElement (session=\"99202407-c676-46bd-b091-3eb8ad410a85\", element=\"79220041-e029-4042-940b-437e867eba54\")>, <selenium.webdriver.remote.webelement.WebElement (session=\"99202407-c676-46bd-b091-3eb8ad410a85\", element=\"820721a7-9c10-4c43-9c79-cf9a56d88816\")>, <selenium.webdriver.remote.webelement.WebElement (session=\"99202407-c676-46bd-b091-3eb8ad410a85\", element=\"15c7f8f0-2407-47d9-9266-ca1822609d19\")>, <selenium.webdriver.remote.webelement.WebElement (session=\"99202407-c676-46bd-b091-3eb8ad410a85\", element=\"7e4f7995-7663-4947-9592-cb7c30de1f26\")>, <selenium.webdriver.remote.webelement.WebElement (session=\"99202407-c676-46bd-b091-3eb8ad410a85\", element=\"05350efc-ebda-4963-b015-d17aaedcabc6\")>, <selenium.webdriver.remote.webelement.WebElement (session=\"99202407-c676-46bd-b091-3eb8ad410a85\", element=\"b22224fd-0a67-4490-9ef3-d3d9491e79e2\")>, <selenium.webdriver.remote.webelement.WebElement (session=\"99202407-c676-46bd-b091-3eb8ad410a85\", element=\"5aced229-d0fd-446a-9c28-f0aba92aeabd\")>, <selenium.webdriver.remote.webelement.WebElement (session=\"99202407-c676-46bd-b091-3eb8ad410a85\", element=\"c1c7db58-bc6a-41bb-9543-4549aa623ded\")>, <selenium.webdriver.remote.webelement.WebElement (session=\"99202407-c676-46bd-b091-3eb8ad410a85\", element=\"42bb0f66-641a-4d39-bd72-fa4c2b5bec0d\")>, <selenium.webdriver.remote.webelement.WebElement (session=\"99202407-c676-46bd-b091-3eb8ad410a85\", element=\"ec1a03a6-bba0-4734-b647-b1b227ca0fc5\")>, <selenium.webdriver.remote.webelement.WebElement (session=\"99202407-c676-46bd-b091-3eb8ad410a85\", element=\"7da025dc-3be2-4cf2-aa5c-a707a13afc4e\")>, <selenium.webdriver.remote.webelement.WebElement (session=\"99202407-c676-46bd-b091-3eb8ad410a85\", element=\"b5f6e481-4a12-4d05-b357-6cd20f164ee7\")>, <selenium.webdriver.remote.webelement.WebElement (session=\"99202407-c676-46bd-b091-3eb8ad410a85\", element=\"d119a7a8-0733-4947-b599-14a1e2e18bc3\")>]\n"
     ]
    },
    {
     "name": "stderr",
     "output_type": "stream",
     "text": [
      "51it [00:11,  4.28it/s]\n",
      "[WDM] - Downloading: 19.2kB [00:00, 4.98MB/s]                   \n"
     ]
    },
    {
     "name": "stdout",
     "output_type": "stream",
     "text": [
      "[<selenium.webdriver.remote.webelement.WebElement (session=\"1682a765-81f8-46d0-9280-46c7d5a811ac\", element=\"a083e504-809c-424e-90fa-405aeb44e535\")>, <selenium.webdriver.remote.webelement.WebElement (session=\"1682a765-81f8-46d0-9280-46c7d5a811ac\", element=\"4e09d0a3-7644-4d04-bb1e-345535a98e2c\")>, <selenium.webdriver.remote.webelement.WebElement (session=\"1682a765-81f8-46d0-9280-46c7d5a811ac\", element=\"4d7c9ebb-1022-43b0-930f-ba577af0fb88\")>, <selenium.webdriver.remote.webelement.WebElement (session=\"1682a765-81f8-46d0-9280-46c7d5a811ac\", element=\"af51545f-4e03-4a8b-b781-713a0c2b0265\")>, <selenium.webdriver.remote.webelement.WebElement (session=\"1682a765-81f8-46d0-9280-46c7d5a811ac\", element=\"4e497cdf-d2b6-462d-acf9-045c4e288656\")>, <selenium.webdriver.remote.webelement.WebElement (session=\"1682a765-81f8-46d0-9280-46c7d5a811ac\", element=\"2a8692c9-485c-41bb-94cb-5344548fb170\")>, <selenium.webdriver.remote.webelement.WebElement (session=\"1682a765-81f8-46d0-9280-46c7d5a811ac\", element=\"f12cb5f8-0a90-413f-8786-7cf629a36a2d\")>, <selenium.webdriver.remote.webelement.WebElement (session=\"1682a765-81f8-46d0-9280-46c7d5a811ac\", element=\"fad9f7f1-a779-4873-a203-1be59add875e\")>, <selenium.webdriver.remote.webelement.WebElement (session=\"1682a765-81f8-46d0-9280-46c7d5a811ac\", element=\"f03c7460-ba9f-4272-99df-3b7732b617ac\")>, <selenium.webdriver.remote.webelement.WebElement (session=\"1682a765-81f8-46d0-9280-46c7d5a811ac\", element=\"b2491ebf-b784-4546-ab92-be859c2e5af1\")>, <selenium.webdriver.remote.webelement.WebElement (session=\"1682a765-81f8-46d0-9280-46c7d5a811ac\", element=\"4c74bd8c-7bb4-4556-83d1-b2f6f56ae5ed\")>, <selenium.webdriver.remote.webelement.WebElement (session=\"1682a765-81f8-46d0-9280-46c7d5a811ac\", element=\"d469d31b-143b-46ed-a892-0e2f8883ea4c\")>, <selenium.webdriver.remote.webelement.WebElement (session=\"1682a765-81f8-46d0-9280-46c7d5a811ac\", element=\"decacf5d-6dde-4102-bb02-356db608e413\")>, <selenium.webdriver.remote.webelement.WebElement (session=\"1682a765-81f8-46d0-9280-46c7d5a811ac\", element=\"fea1c0c3-c801-4c4a-bcc1-84ce034ed9e5\")>, <selenium.webdriver.remote.webelement.WebElement (session=\"1682a765-81f8-46d0-9280-46c7d5a811ac\", element=\"0690debd-c06d-4bd8-bf9a-b158b46c6b43\")>, <selenium.webdriver.remote.webelement.WebElement (session=\"1682a765-81f8-46d0-9280-46c7d5a811ac\", element=\"0cdcd5de-c76b-4784-b8fc-f3ba1c482d3d\")>, <selenium.webdriver.remote.webelement.WebElement (session=\"1682a765-81f8-46d0-9280-46c7d5a811ac\", element=\"5b2bd7f5-5ca4-402f-82b5-97a3669cc4f3\")>, <selenium.webdriver.remote.webelement.WebElement (session=\"1682a765-81f8-46d0-9280-46c7d5a811ac\", element=\"6961ed2a-16bb-4063-8bd7-13634d74a117\")>, <selenium.webdriver.remote.webelement.WebElement (session=\"1682a765-81f8-46d0-9280-46c7d5a811ac\", element=\"cecf479e-c07f-428c-9d83-0b0a8d3f6e60\")>, <selenium.webdriver.remote.webelement.WebElement (session=\"1682a765-81f8-46d0-9280-46c7d5a811ac\", element=\"4cd0031f-d0fe-4800-9f4d-5a592839e86c\")>, <selenium.webdriver.remote.webelement.WebElement (session=\"1682a765-81f8-46d0-9280-46c7d5a811ac\", element=\"ac15ee12-a920-40a0-a15c-46c93300fa47\")>, <selenium.webdriver.remote.webelement.WebElement (session=\"1682a765-81f8-46d0-9280-46c7d5a811ac\", element=\"63573f9c-067d-46a5-af4d-e6101a5a10c1\")>, <selenium.webdriver.remote.webelement.WebElement (session=\"1682a765-81f8-46d0-9280-46c7d5a811ac\", element=\"e1217bf9-934a-48ff-b6d5-1dee14baeeff\")>, <selenium.webdriver.remote.webelement.WebElement (session=\"1682a765-81f8-46d0-9280-46c7d5a811ac\", element=\"1578f48a-897d-4ff4-82c0-c7a0559ec972\")>, <selenium.webdriver.remote.webelement.WebElement (session=\"1682a765-81f8-46d0-9280-46c7d5a811ac\", element=\"cd78a1ee-bc7c-4c39-8270-d531c1952afc\")>, <selenium.webdriver.remote.webelement.WebElement (session=\"1682a765-81f8-46d0-9280-46c7d5a811ac\", element=\"e2ed85ac-e521-4374-a19d-2cd617dfb620\")>, <selenium.webdriver.remote.webelement.WebElement (session=\"1682a765-81f8-46d0-9280-46c7d5a811ac\", element=\"0085cf33-b7e6-4bcf-bb6a-48046ae3f8c4\")>, <selenium.webdriver.remote.webelement.WebElement (session=\"1682a765-81f8-46d0-9280-46c7d5a811ac\", element=\"c7247a64-1607-4396-9f89-b1bf409e03b4\")>, <selenium.webdriver.remote.webelement.WebElement (session=\"1682a765-81f8-46d0-9280-46c7d5a811ac\", element=\"7a4c86fa-9068-4fd3-9cec-133a27f79680\")>, <selenium.webdriver.remote.webelement.WebElement (session=\"1682a765-81f8-46d0-9280-46c7d5a811ac\", element=\"0bb22f48-b1dc-44c4-b5b3-402f865bd565\")>, <selenium.webdriver.remote.webelement.WebElement (session=\"1682a765-81f8-46d0-9280-46c7d5a811ac\", element=\"a0cb94af-4614-437a-a410-e4096fc56f2b\")>, <selenium.webdriver.remote.webelement.WebElement (session=\"1682a765-81f8-46d0-9280-46c7d5a811ac\", element=\"f66b3fd9-3ee8-43fe-9961-12ede3d4dd5b\")>, <selenium.webdriver.remote.webelement.WebElement (session=\"1682a765-81f8-46d0-9280-46c7d5a811ac\", element=\"983286ca-40fc-47a2-9b7e-ac10aad703fe\")>, <selenium.webdriver.remote.webelement.WebElement (session=\"1682a765-81f8-46d0-9280-46c7d5a811ac\", element=\"726dc5b8-d3f5-450e-9b04-29d3e6408ef6\")>, <selenium.webdriver.remote.webelement.WebElement (session=\"1682a765-81f8-46d0-9280-46c7d5a811ac\", element=\"f95efb9f-a777-44d4-9aec-0c5fa4d47202\")>, <selenium.webdriver.remote.webelement.WebElement (session=\"1682a765-81f8-46d0-9280-46c7d5a811ac\", element=\"3e3d9d72-42f8-4df6-b35b-1ac532554ace\")>, <selenium.webdriver.remote.webelement.WebElement (session=\"1682a765-81f8-46d0-9280-46c7d5a811ac\", element=\"5ed0a659-d00a-4d69-8aba-e1dc6c1bee04\")>, <selenium.webdriver.remote.webelement.WebElement (session=\"1682a765-81f8-46d0-9280-46c7d5a811ac\", element=\"bfec0929-15ad-4c78-b468-628a5f0b1c20\")>, <selenium.webdriver.remote.webelement.WebElement (session=\"1682a765-81f8-46d0-9280-46c7d5a811ac\", element=\"5eb88717-0241-462c-a19c-310e3294104c\")>, <selenium.webdriver.remote.webelement.WebElement (session=\"1682a765-81f8-46d0-9280-46c7d5a811ac\", element=\"85c8e570-4463-4e46-a982-a188a6290478\")>, <selenium.webdriver.remote.webelement.WebElement (session=\"1682a765-81f8-46d0-9280-46c7d5a811ac\", element=\"b5763045-d638-4e84-86e9-af88fb500034\")>, <selenium.webdriver.remote.webelement.WebElement (session=\"1682a765-81f8-46d0-9280-46c7d5a811ac\", element=\"eed89b97-b2ac-4c45-bfb2-22a27e820b9b\")>, <selenium.webdriver.remote.webelement.WebElement (session=\"1682a765-81f8-46d0-9280-46c7d5a811ac\", element=\"68822571-5367-44bf-8274-1048b4f5c83b\")>, <selenium.webdriver.remote.webelement.WebElement (session=\"1682a765-81f8-46d0-9280-46c7d5a811ac\", element=\"9c894ef0-6f7a-4f58-8b6e-394bdb8469a5\")>, <selenium.webdriver.remote.webelement.WebElement (session=\"1682a765-81f8-46d0-9280-46c7d5a811ac\", element=\"4b9fe78d-75a5-431e-91f3-a6c40ed4ec01\")>, <selenium.webdriver.remote.webelement.WebElement (session=\"1682a765-81f8-46d0-9280-46c7d5a811ac\", element=\"4ebadbc7-173d-4e4b-8c65-fb8505e83797\")>, <selenium.webdriver.remote.webelement.WebElement (session=\"1682a765-81f8-46d0-9280-46c7d5a811ac\", element=\"b2c216ab-c230-4bcb-9101-2a83b32dd8cf\")>, <selenium.webdriver.remote.webelement.WebElement (session=\"1682a765-81f8-46d0-9280-46c7d5a811ac\", element=\"738b1267-6098-4ba5-91d7-96477c658e99\")>, <selenium.webdriver.remote.webelement.WebElement (session=\"1682a765-81f8-46d0-9280-46c7d5a811ac\", element=\"f2e3e568-eb7e-469c-a490-c59076f1d2ec\")>, <selenium.webdriver.remote.webelement.WebElement (session=\"1682a765-81f8-46d0-9280-46c7d5a811ac\", element=\"dab935ab-50d0-4470-a972-8704f7312bbb\")>, <selenium.webdriver.remote.webelement.WebElement (session=\"1682a765-81f8-46d0-9280-46c7d5a811ac\", element=\"95f3e462-d3f5-4a20-99e1-52d290bd5210\")>]\n"
     ]
    },
    {
     "name": "stderr",
     "output_type": "stream",
     "text": [
      "51it [00:08,  6.08it/s]\n",
      "[WDM] - Downloading: 19.2kB [00:00, 6.09MB/s]                   \n"
     ]
    },
    {
     "name": "stdout",
     "output_type": "stream",
     "text": [
      "[<selenium.webdriver.remote.webelement.WebElement (session=\"5bc273bd-2680-42c8-9d11-abd716bc8100\", element=\"ba744164-4d89-4ec8-b98f-f6c78d086d76\")>, <selenium.webdriver.remote.webelement.WebElement (session=\"5bc273bd-2680-42c8-9d11-abd716bc8100\", element=\"ead041cd-347f-43d2-bc7e-8fa7c8475a75\")>, <selenium.webdriver.remote.webelement.WebElement (session=\"5bc273bd-2680-42c8-9d11-abd716bc8100\", element=\"308ff27d-2be7-4a69-a155-6d9ddd4b2619\")>, <selenium.webdriver.remote.webelement.WebElement (session=\"5bc273bd-2680-42c8-9d11-abd716bc8100\", element=\"ab2eb7d3-f6a2-46e0-9e01-8843fba754dd\")>, <selenium.webdriver.remote.webelement.WebElement (session=\"5bc273bd-2680-42c8-9d11-abd716bc8100\", element=\"6b2a554d-f9a7-4f48-be4b-f4f748f64a03\")>, <selenium.webdriver.remote.webelement.WebElement (session=\"5bc273bd-2680-42c8-9d11-abd716bc8100\", element=\"4bdf9dc7-4b13-4226-84d3-ffcff51d61ea\")>, <selenium.webdriver.remote.webelement.WebElement (session=\"5bc273bd-2680-42c8-9d11-abd716bc8100\", element=\"4af080bf-5cc3-4e03-8297-2fcedac57f08\")>, <selenium.webdriver.remote.webelement.WebElement (session=\"5bc273bd-2680-42c8-9d11-abd716bc8100\", element=\"9fd8489b-f7b0-4018-b2f0-ceab1e5a8038\")>, <selenium.webdriver.remote.webelement.WebElement (session=\"5bc273bd-2680-42c8-9d11-abd716bc8100\", element=\"7ba4ac38-e576-455b-9462-d99dfe0caf2c\")>, <selenium.webdriver.remote.webelement.WebElement (session=\"5bc273bd-2680-42c8-9d11-abd716bc8100\", element=\"d68baf18-66b2-4fcc-8afc-943e3f5628c3\")>, <selenium.webdriver.remote.webelement.WebElement (session=\"5bc273bd-2680-42c8-9d11-abd716bc8100\", element=\"f9fbb023-f7e4-4e51-b7d9-aaeb443882dc\")>, <selenium.webdriver.remote.webelement.WebElement (session=\"5bc273bd-2680-42c8-9d11-abd716bc8100\", element=\"68488799-4880-408b-ab75-5cb383f5027d\")>, <selenium.webdriver.remote.webelement.WebElement (session=\"5bc273bd-2680-42c8-9d11-abd716bc8100\", element=\"4437825a-d43f-4987-ae7a-dd7cecdcb22a\")>, <selenium.webdriver.remote.webelement.WebElement (session=\"5bc273bd-2680-42c8-9d11-abd716bc8100\", element=\"234b77cb-0ef3-4dbd-acf8-ac9346912350\")>, <selenium.webdriver.remote.webelement.WebElement (session=\"5bc273bd-2680-42c8-9d11-abd716bc8100\", element=\"f8b47419-b04a-4479-b43b-3a91c4addf47\")>, <selenium.webdriver.remote.webelement.WebElement (session=\"5bc273bd-2680-42c8-9d11-abd716bc8100\", element=\"586dba32-6f0b-4036-a652-75602ee34e8b\")>, <selenium.webdriver.remote.webelement.WebElement (session=\"5bc273bd-2680-42c8-9d11-abd716bc8100\", element=\"473e9f08-b8f3-47ec-ac9c-da94cbec707e\")>, <selenium.webdriver.remote.webelement.WebElement (session=\"5bc273bd-2680-42c8-9d11-abd716bc8100\", element=\"9912b49b-4011-43f9-ba76-3963d1a09889\")>, <selenium.webdriver.remote.webelement.WebElement (session=\"5bc273bd-2680-42c8-9d11-abd716bc8100\", element=\"f3bd1f56-8d15-4d45-a17d-58e3362c8944\")>, <selenium.webdriver.remote.webelement.WebElement (session=\"5bc273bd-2680-42c8-9d11-abd716bc8100\", element=\"bfc3f478-3143-4279-8bb9-80303f8e9c03\")>, <selenium.webdriver.remote.webelement.WebElement (session=\"5bc273bd-2680-42c8-9d11-abd716bc8100\", element=\"b57bef36-00d0-4e8d-9990-2366d0e728ed\")>, <selenium.webdriver.remote.webelement.WebElement (session=\"5bc273bd-2680-42c8-9d11-abd716bc8100\", element=\"ce019a3a-d828-4fe3-884e-20e150aba8cf\")>, <selenium.webdriver.remote.webelement.WebElement (session=\"5bc273bd-2680-42c8-9d11-abd716bc8100\", element=\"73c2bc93-64f4-4912-b970-ca10e84829e9\")>, <selenium.webdriver.remote.webelement.WebElement (session=\"5bc273bd-2680-42c8-9d11-abd716bc8100\", element=\"e4c5c84c-66a1-41a0-ad8d-d2276a5e8b74\")>, <selenium.webdriver.remote.webelement.WebElement (session=\"5bc273bd-2680-42c8-9d11-abd716bc8100\", element=\"a7161971-0406-4215-a30d-732860371cab\")>, <selenium.webdriver.remote.webelement.WebElement (session=\"5bc273bd-2680-42c8-9d11-abd716bc8100\", element=\"5bf0bcd8-736e-4f9a-a625-1a5ff30523bb\")>, <selenium.webdriver.remote.webelement.WebElement (session=\"5bc273bd-2680-42c8-9d11-abd716bc8100\", element=\"89001a51-d3a3-4bac-8ee7-4f767f7ad1db\")>, <selenium.webdriver.remote.webelement.WebElement (session=\"5bc273bd-2680-42c8-9d11-abd716bc8100\", element=\"a940b294-ea7a-4fa2-a04b-5568d3f32146\")>, <selenium.webdriver.remote.webelement.WebElement (session=\"5bc273bd-2680-42c8-9d11-abd716bc8100\", element=\"ecbfe0e9-c57c-4da2-ada6-2345250684ee\")>, <selenium.webdriver.remote.webelement.WebElement (session=\"5bc273bd-2680-42c8-9d11-abd716bc8100\", element=\"097823f6-5c96-4f5d-9b21-7caee2c2d3b0\")>, <selenium.webdriver.remote.webelement.WebElement (session=\"5bc273bd-2680-42c8-9d11-abd716bc8100\", element=\"08ac986b-4074-4e9a-abd9-0cc5afe86224\")>, <selenium.webdriver.remote.webelement.WebElement (session=\"5bc273bd-2680-42c8-9d11-abd716bc8100\", element=\"07a3531d-70f2-4efd-9adc-7e2a8794249b\")>, <selenium.webdriver.remote.webelement.WebElement (session=\"5bc273bd-2680-42c8-9d11-abd716bc8100\", element=\"ff5d7e31-a8ca-48b6-84dd-574b78612a4b\")>, <selenium.webdriver.remote.webelement.WebElement (session=\"5bc273bd-2680-42c8-9d11-abd716bc8100\", element=\"ba267fbe-a98a-444d-95a3-832200a54dac\")>, <selenium.webdriver.remote.webelement.WebElement (session=\"5bc273bd-2680-42c8-9d11-abd716bc8100\", element=\"a4b7a5b2-38d6-47e0-95fc-e66b72823cc8\")>, <selenium.webdriver.remote.webelement.WebElement (session=\"5bc273bd-2680-42c8-9d11-abd716bc8100\", element=\"e140e5bd-8624-4551-bb4c-fe75c7c2c1d3\")>, <selenium.webdriver.remote.webelement.WebElement (session=\"5bc273bd-2680-42c8-9d11-abd716bc8100\", element=\"7b567758-81d4-4377-bb7c-8bc79d654c7c\")>, <selenium.webdriver.remote.webelement.WebElement (session=\"5bc273bd-2680-42c8-9d11-abd716bc8100\", element=\"5dd093bd-444b-4c0d-b961-0271ede9dd97\")>, <selenium.webdriver.remote.webelement.WebElement (session=\"5bc273bd-2680-42c8-9d11-abd716bc8100\", element=\"bc9563d0-a6d4-419e-8aee-a587c225c94a\")>, <selenium.webdriver.remote.webelement.WebElement (session=\"5bc273bd-2680-42c8-9d11-abd716bc8100\", element=\"21dd16f5-0792-4122-bd5b-8dfbb6604c1a\")>, <selenium.webdriver.remote.webelement.WebElement (session=\"5bc273bd-2680-42c8-9d11-abd716bc8100\", element=\"70654e1e-2cb8-40ff-bf71-421491868370\")>, <selenium.webdriver.remote.webelement.WebElement (session=\"5bc273bd-2680-42c8-9d11-abd716bc8100\", element=\"651e021a-fee0-4377-a06a-b82a687f68d5\")>, <selenium.webdriver.remote.webelement.WebElement (session=\"5bc273bd-2680-42c8-9d11-abd716bc8100\", element=\"e3625939-c32f-47f7-8609-58e9fc292ccb\")>, <selenium.webdriver.remote.webelement.WebElement (session=\"5bc273bd-2680-42c8-9d11-abd716bc8100\", element=\"04953c76-fec8-4db8-9355-2604490cda0d\")>, <selenium.webdriver.remote.webelement.WebElement (session=\"5bc273bd-2680-42c8-9d11-abd716bc8100\", element=\"7474e1e3-3a47-453b-b266-c7868fd7ef58\")>, <selenium.webdriver.remote.webelement.WebElement (session=\"5bc273bd-2680-42c8-9d11-abd716bc8100\", element=\"e8d6a83a-4588-45be-adc4-df506a223162\")>, <selenium.webdriver.remote.webelement.WebElement (session=\"5bc273bd-2680-42c8-9d11-abd716bc8100\", element=\"d0199b9c-d2a5-4beb-8d3b-7fa46c717c3b\")>, <selenium.webdriver.remote.webelement.WebElement (session=\"5bc273bd-2680-42c8-9d11-abd716bc8100\", element=\"6b2a0d80-29e4-49a9-9384-7e0bef58c5e0\")>]\n"
     ]
    },
    {
     "name": "stderr",
     "output_type": "stream",
     "text": [
      "48it [00:10,  4.51it/s]\n",
      "[WDM] - Downloading: 19.2kB [00:00, 2.86MB/s]                   \n"
     ]
    },
    {
     "name": "stdout",
     "output_type": "stream",
     "text": [
      "[<selenium.webdriver.remote.webelement.WebElement (session=\"758e5199-32ff-41f9-b8de-3f0d857de238\", element=\"811bf988-6c57-4b01-a197-d2d58b7c899a\")>, <selenium.webdriver.remote.webelement.WebElement (session=\"758e5199-32ff-41f9-b8de-3f0d857de238\", element=\"b30d025b-2334-4134-bc65-87a21b5fd8a5\")>, <selenium.webdriver.remote.webelement.WebElement (session=\"758e5199-32ff-41f9-b8de-3f0d857de238\", element=\"9a8d92dd-8847-42e5-a2ca-358593efd76f\")>, <selenium.webdriver.remote.webelement.WebElement (session=\"758e5199-32ff-41f9-b8de-3f0d857de238\", element=\"32c01839-7819-49bf-aa73-a07765ae2a2b\")>, <selenium.webdriver.remote.webelement.WebElement (session=\"758e5199-32ff-41f9-b8de-3f0d857de238\", element=\"e07adf16-b318-4857-817f-296ff45e796d\")>, <selenium.webdriver.remote.webelement.WebElement (session=\"758e5199-32ff-41f9-b8de-3f0d857de238\", element=\"b9ebaaa5-755e-4b45-a985-5615a587a77b\")>, <selenium.webdriver.remote.webelement.WebElement (session=\"758e5199-32ff-41f9-b8de-3f0d857de238\", element=\"f996ddb0-7673-4fab-8bba-bdca08f3487f\")>, <selenium.webdriver.remote.webelement.WebElement (session=\"758e5199-32ff-41f9-b8de-3f0d857de238\", element=\"a096b705-859c-400a-abf3-b968b9e33306\")>, <selenium.webdriver.remote.webelement.WebElement (session=\"758e5199-32ff-41f9-b8de-3f0d857de238\", element=\"5b39c7fc-967a-42a5-a28b-8bb469569691\")>, <selenium.webdriver.remote.webelement.WebElement (session=\"758e5199-32ff-41f9-b8de-3f0d857de238\", element=\"159f0121-86d0-4b02-98d5-c60a22ac1245\")>, <selenium.webdriver.remote.webelement.WebElement (session=\"758e5199-32ff-41f9-b8de-3f0d857de238\", element=\"12b25d48-34f6-47ca-82f7-64c6f717732f\")>, <selenium.webdriver.remote.webelement.WebElement (session=\"758e5199-32ff-41f9-b8de-3f0d857de238\", element=\"ddfba16c-d22f-4012-98d5-c6515e102a8d\")>, <selenium.webdriver.remote.webelement.WebElement (session=\"758e5199-32ff-41f9-b8de-3f0d857de238\", element=\"f4d20a93-9f00-42a6-bfa5-4d626307402d\")>, <selenium.webdriver.remote.webelement.WebElement (session=\"758e5199-32ff-41f9-b8de-3f0d857de238\", element=\"fb43b637-82ca-4d25-a822-1d2006c4b626\")>, <selenium.webdriver.remote.webelement.WebElement (session=\"758e5199-32ff-41f9-b8de-3f0d857de238\", element=\"ae44274d-4f45-4452-b18b-c9402759fd28\")>, <selenium.webdriver.remote.webelement.WebElement (session=\"758e5199-32ff-41f9-b8de-3f0d857de238\", element=\"aa1f515a-d9a2-40b1-b793-bbb03a782e2b\")>, <selenium.webdriver.remote.webelement.WebElement (session=\"758e5199-32ff-41f9-b8de-3f0d857de238\", element=\"17af1847-ea27-4be9-a67f-733fab3ec253\")>, <selenium.webdriver.remote.webelement.WebElement (session=\"758e5199-32ff-41f9-b8de-3f0d857de238\", element=\"4a002f30-b8ed-4854-b3b8-4229b92e0247\")>, <selenium.webdriver.remote.webelement.WebElement (session=\"758e5199-32ff-41f9-b8de-3f0d857de238\", element=\"b26fe543-f201-4e2e-8eff-5d10f9ea2c9c\")>, <selenium.webdriver.remote.webelement.WebElement (session=\"758e5199-32ff-41f9-b8de-3f0d857de238\", element=\"e502852c-5de4-4dd8-8a55-d42f1baeffaa\")>, <selenium.webdriver.remote.webelement.WebElement (session=\"758e5199-32ff-41f9-b8de-3f0d857de238\", element=\"f252cc0b-4e23-4613-9566-711985621d1f\")>, <selenium.webdriver.remote.webelement.WebElement (session=\"758e5199-32ff-41f9-b8de-3f0d857de238\", element=\"b5322bb6-bd72-4c28-887e-d0073dabaf05\")>, <selenium.webdriver.remote.webelement.WebElement (session=\"758e5199-32ff-41f9-b8de-3f0d857de238\", element=\"92f96365-6a12-4060-91a3-dea0afd91a6f\")>, <selenium.webdriver.remote.webelement.WebElement (session=\"758e5199-32ff-41f9-b8de-3f0d857de238\", element=\"928cb522-d7c1-4a21-9264-465c80e5265d\")>, <selenium.webdriver.remote.webelement.WebElement (session=\"758e5199-32ff-41f9-b8de-3f0d857de238\", element=\"cdad5c90-3a64-474e-a1c9-f057577900b0\")>, <selenium.webdriver.remote.webelement.WebElement (session=\"758e5199-32ff-41f9-b8de-3f0d857de238\", element=\"51e45f87-3e98-4d6e-a3f4-78557ba289c2\")>, <selenium.webdriver.remote.webelement.WebElement (session=\"758e5199-32ff-41f9-b8de-3f0d857de238\", element=\"d2bca764-44aa-4984-810b-e009b9514e7b\")>, <selenium.webdriver.remote.webelement.WebElement (session=\"758e5199-32ff-41f9-b8de-3f0d857de238\", element=\"36910211-f74d-41a7-92e6-4d28e4419bc6\")>, <selenium.webdriver.remote.webelement.WebElement (session=\"758e5199-32ff-41f9-b8de-3f0d857de238\", element=\"59329eef-8099-434b-81e3-792db75fc1f7\")>, <selenium.webdriver.remote.webelement.WebElement (session=\"758e5199-32ff-41f9-b8de-3f0d857de238\", element=\"7eda3e77-7f7f-416f-a366-fefb5ab70343\")>, <selenium.webdriver.remote.webelement.WebElement (session=\"758e5199-32ff-41f9-b8de-3f0d857de238\", element=\"7c87fdde-a181-47b8-862b-148cf87acc74\")>, <selenium.webdriver.remote.webelement.WebElement (session=\"758e5199-32ff-41f9-b8de-3f0d857de238\", element=\"7ed0a7ba-a051-4de1-9223-40334e47cbdd\")>, <selenium.webdriver.remote.webelement.WebElement (session=\"758e5199-32ff-41f9-b8de-3f0d857de238\", element=\"0a3b58c2-f34d-4c16-af1f-cb9136be5290\")>, <selenium.webdriver.remote.webelement.WebElement (session=\"758e5199-32ff-41f9-b8de-3f0d857de238\", element=\"8862686d-b747-47c6-930f-27607f93c014\")>, <selenium.webdriver.remote.webelement.WebElement (session=\"758e5199-32ff-41f9-b8de-3f0d857de238\", element=\"ca09ab74-fc6b-4666-9132-621458b17e56\")>, <selenium.webdriver.remote.webelement.WebElement (session=\"758e5199-32ff-41f9-b8de-3f0d857de238\", element=\"7a769b3d-3879-4780-8974-6a71b83bdd99\")>, <selenium.webdriver.remote.webelement.WebElement (session=\"758e5199-32ff-41f9-b8de-3f0d857de238\", element=\"15f40372-f9ae-467a-9083-9f39975d2d89\")>, <selenium.webdriver.remote.webelement.WebElement (session=\"758e5199-32ff-41f9-b8de-3f0d857de238\", element=\"458ed1be-fbe1-48a4-b7a7-f2a98a3384d0\")>, <selenium.webdriver.remote.webelement.WebElement (session=\"758e5199-32ff-41f9-b8de-3f0d857de238\", element=\"3fa98b6c-9a68-441d-a906-18c14afc2db4\")>, <selenium.webdriver.remote.webelement.WebElement (session=\"758e5199-32ff-41f9-b8de-3f0d857de238\", element=\"b37d5b25-7739-4a29-936e-9b970c5d50db\")>, <selenium.webdriver.remote.webelement.WebElement (session=\"758e5199-32ff-41f9-b8de-3f0d857de238\", element=\"710b18bd-feec-48a1-b42f-03fb6d0e590e\")>, <selenium.webdriver.remote.webelement.WebElement (session=\"758e5199-32ff-41f9-b8de-3f0d857de238\", element=\"d496e0c5-1cde-4790-99ea-63d3e39e238e\")>, <selenium.webdriver.remote.webelement.WebElement (session=\"758e5199-32ff-41f9-b8de-3f0d857de238\", element=\"edb2006b-1e7a-4b97-8158-a4ffe23c9b6b\")>, <selenium.webdriver.remote.webelement.WebElement (session=\"758e5199-32ff-41f9-b8de-3f0d857de238\", element=\"84e57b31-de93-4373-ae3e-83bb7dd7d9bf\")>, <selenium.webdriver.remote.webelement.WebElement (session=\"758e5199-32ff-41f9-b8de-3f0d857de238\", element=\"395f07f8-429f-4bad-a1fc-9001e29694d8\")>, <selenium.webdriver.remote.webelement.WebElement (session=\"758e5199-32ff-41f9-b8de-3f0d857de238\", element=\"81705db1-a466-4838-b244-84731cd5df70\")>, <selenium.webdriver.remote.webelement.WebElement (session=\"758e5199-32ff-41f9-b8de-3f0d857de238\", element=\"2f3ee265-9aa3-4a96-b280-463080e25b23\")>, <selenium.webdriver.remote.webelement.WebElement (session=\"758e5199-32ff-41f9-b8de-3f0d857de238\", element=\"67f0639b-f3c0-4bdb-bcda-6e22af8eab5f\")>]\n"
     ]
    },
    {
     "name": "stderr",
     "output_type": "stream",
     "text": [
      "48it [00:08,  5.47it/s]\n"
     ]
    }
   ],
   "source": [
    "from selenium import webdriver\n",
    "from selenium.webdriver.common.by import By\n",
    "from selenium.webdriver.common.keys import Keys\n",
    "from webdriver_manager.firefox import GeckoDriverManager\n",
    "import time\n",
    "from tqdm import tqdm\n",
    "\n",
    "keys = ['Nature', 'Human', 'technology','Travel']\n",
    "path = 'data_crawl'\n",
    "# path = \"/home/hero/Downloads/data_crawl\"\n",
    "idx = len(os.listdir(path))\n",
    "# print(keys)\n",
    "\n",
    "for key in keys:\n",
    "    driver = webdriver.Firefox(executable_path=GeckoDriverManager().install())\n",
    "    driver.get('https://unsplash.com/')\n",
    "\n",
    "    # Tìm kiếm ảnh và load thêm ảnh bằng cách scroll xuống đáy trang\n",
    "    search_input = driver.find_element(By.XPATH, \"/html/body/div/div/header/nav/div[2]/form/div[1]/input\")\n",
    "    search_input.send_keys(key)\n",
    "    search_input.send_keys(Keys.RETURN)\n",
    "\n",
    "    time.sleep(5)\n",
    "    scroll_pause_time = 1\n",
    "    screen_height = driver.execute_script(\"return window.screen.height;\")\n",
    "    i = 1\n",
    "\n",
    "    while True:\n",
    "        scroll_height = driver.execute_script(\"return document.body.scrollHeight;\")\n",
    "        driver.execute_script(\"window.scrollTo(0, {0});\".format(screen_height * i))\n",
    "        time.sleep(scroll_pause_time)\n",
    "        new_scroll_height = driver.execute_script(\"return document.body.scrollHeight;\")\n",
    "        if new_scroll_height == scroll_height:\n",
    "            break\n",
    "        i += 1\n",
    "\n",
    "    # Lấy link của ảnh\n",
    "    image_elements = driver.find_elements(By.TAG_NAME, \"img\")\n",
    "    print(image_elements)\n",
    "\n",
    "    for i, image_link in tqdm(enumerate(image_elements)):\n",
    "        class_name = image_link.get_attribute(\"class\")\n",
    "        image_link = image_link.get_attribute(\"src\")\n",
    "        if \"tB6UZ a5VGX\" in class_name and \"profile\" is not image_link:\n",
    "            \n",
    "            dowload_image(image_link, idx)\n",
    "            idx+=1\n",
    "    driver.quit()"
   ]
  }
 ],
 "metadata": {
  "kernelspec": {
   "display_name": "botsort_env",
   "language": "python",
   "name": "python3"
  },
  "language_info": {
   "codemirror_mode": {
    "name": "ipython",
    "version": 3
   },
   "file_extension": ".py",
   "mimetype": "text/x-python",
   "name": "python",
   "nbconvert_exporter": "python",
   "pygments_lexer": "ipython3",
   "version": "3.8.0"
  },
  "orig_nbformat": 4,
  "vscode": {
   "interpreter": {
    "hash": "3c233d23438bb60fd5b094f58eaeabe926c58cbec7675aa79b291e053bb5b88a"
   }
  }
 },
 "nbformat": 4,
 "nbformat_minor": 2
}
