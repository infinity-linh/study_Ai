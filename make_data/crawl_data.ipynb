{
 "cells": [
  {
   "cell_type": "code",
   "execution_count": null,
   "metadata": {},
   "outputs": [],
   "source": [
    "import random\n",
    "import urllib.request\n",
    "\n",
    "def dowload_image(url,idx):\n",
    "    try:\n",
    "        name = f\"/home/hero/Downloads/data_crawl/image_crawl_{idx}\" +\".jpg\"\n",
    "        urllib.request.urlretrieve(url, name)\n",
    "    except:\n",
    "        pass"
   ]
  },
  {
   "cell_type": "code",
   "execution_count": null,
   "metadata": {},
   "outputs": [],
   "source": [
    "# import requests\n",
    "# from bs4 import BeautifulSoup\n",
    "\n",
    "# # URL của trang web cần crawl hình ảnh\n",
    "# URL = \"https://unsplash.com/\"\n",
    "\n",
    "# # thực hiện yêu cầu HTTP và tải nội dung của trang web\n",
    "# response = requests.get(URL)\n",
    "\n",
    "# # tạo đối tượng BeautifulSoup từ nội dung trang web\n",
    "# soup = BeautifulSoup(response.content, 'html.parser')\n",
    "# paths = []\n",
    "\n",
    "# # tìm các thẻ có class là 'oCCRx' (thẻ chứa các hình ảnh)\n",
    "# images = soup.find_all('div', class_='MorZF')\n",
    "\n",
    "# for img in images:\n",
    "#     # lấy URL của hình ảnh từ thuộc tính 'src' của thẻ 'img'\n",
    "#     img_url = img.img['src']\n",
    "#     if img_url not in paths:\n",
    "#     # in URL của hình ảnh\n",
    "#         print(img_url)\n",
    "#         dowload_image(img_url)\n",
    "#     paths.append(img_url)\n"
   ]
  },
  {
   "cell_type": "code",
   "execution_count": null,
   "metadata": {},
   "outputs": [],
   "source": [
    "# !pip install selenium\n",
    "# !pip install webdriver_manager"
   ]
  },
  {
   "cell_type": "code",
   "execution_count": 4,
   "metadata": {},
   "outputs": [
    {
     "name": "stderr",
     "output_type": "stream",
     "text": [
      "6it [03:28, 20.65s/it]"
     ]
    }
   ],
   "source": [
    "from selenium import webdriver\n",
    "from selenium.webdriver.common.by import By\n",
    "from selenium.webdriver.common.keys import Keys\n",
    "from webdriver_manager.firefox import GeckoDriverManager\n",
    "import time\n",
    "from tqdm import tqdm\n",
    "driver = webdriver.Firefox(executable_path=GeckoDriverManager().install())\n",
    "\n",
    "driver.get('https://unsplash.com/')\n",
    "\n",
    "# Tìm kiếm ảnh và load thêm ảnh bằng cách scroll xuống đáy trang\n",
    "search_input = driver.find_element(By.XPATH, \"/html/body/div/div/header/nav/div[2]/form/div[1]/input\")\n",
    "search_input.send_keys(\"Nature\")\n",
    "search_input.send_keys(Keys.RETURN)\n",
    "\n",
    "time.sleep(5)\n",
    "scroll_pause_time = 1\n",
    "screen_height = driver.execute_script(\"return window.screen.height;\")\n",
    "i = 1\n",
    "\n",
    "while True:\n",
    "    scroll_height = driver.execute_script(\"return document.body.scrollHeight;\")\n",
    "    driver.execute_script(\"window.scrollTo(0, {0});\".format(screen_height * i))\n",
    "    time.sleep(scroll_pause_time)\n",
    "    new_scroll_height = driver.execute_script(\"return document.body.scrollHeight;\")\n",
    "    if new_scroll_height == scroll_height:\n",
    "        break\n",
    "    i += 1\n",
    "\n",
    "# Lấy link của ảnh\n",
    "image_elements = driver.find_elements(By.TAG_NAME, \"img\")\n",
    "print(image_elements)\n",
    "for idx, image_link in tqdm(enumerate(image_elements)):\n",
    "    class_name = image_link.get_attribute(\"class\")\n",
    "    image_link = image_link.get_attribute(\"src\")\n",
    "    if \"tB6UZ a5VGX\" in class_name:\n",
    "        dowload_image(image_link, idx)\n",
    "# image_links = [elem.get_attribute(\"src\") for elem in image_elements]\n",
    "# image_links\n",
    "# Đóng webdriver\n",
    "# driver.quit()"
   ]
  }
 ],
 "metadata": {
  "kernelspec": {
   "display_name": "botsort_env",
   "language": "python",
   "name": "python3"
  },
  "language_info": {
   "codemirror_mode": {
    "name": "ipython",
    "version": 3
   },
   "file_extension": ".py",
   "mimetype": "text/x-python",
   "name": "python",
   "nbconvert_exporter": "python",
   "pygments_lexer": "ipython3",
   "version": "3.8.16"
  },
  "orig_nbformat": 4,
  "vscode": {
   "interpreter": {
    "hash": "3c233d23438bb60fd5b094f58eaeabe926c58cbec7675aa79b291e053bb5b88a"
   }
  }
 },
 "nbformat": 4,
 "nbformat_minor": 2
}
