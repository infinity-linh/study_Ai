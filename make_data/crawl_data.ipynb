{
 "cells": [
  {
   "cell_type": "code",
   "execution_count": null,
   "metadata": {},
   "outputs": [],
   "source": [
    "# selenium 3\n",
    "from selenium import webdriver\n",
    "from webdriver_manager.firefox import GeckoDriverManager\n",
    "import time\n",
    "\n",
    "driver = webdriver.Firefox(executable_path=GeckoDriverManager().install())\n",
    "browser.get('https://unsplash.com/')\n",
    "# url = \"https://news.ycombinator.com/\"\n",
    "# driver.get(url)\n",
    "# time.sleep(3)\n",
    "elements = driver.find_elements_by_css_selector(\".storylink\")"
   ]
  }
 ],
 "metadata": {
  "kernelspec": {
   "display_name": "botsort_env",
   "language": "python",
   "name": "python3"
  },
  "language_info": {
   "codemirror_mode": {
    "name": "ipython",
    "version": 3
   },
   "file_extension": ".py",
   "mimetype": "text/x-python",
   "name": "python",
   "nbconvert_exporter": "python",
   "pygments_lexer": "ipython3",
   "version": "3.7.15"
  },
  "orig_nbformat": 4,
  "vscode": {
   "interpreter": {
    "hash": "3c233d23438bb60fd5b094f58eaeabe926c58cbec7675aa79b291e053bb5b88a"
   }
  }
 },
 "nbformat": 4,
 "nbformat_minor": 2
}
