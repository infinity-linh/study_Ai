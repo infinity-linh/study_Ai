{
 "cells": [
  {
   "cell_type": "code",
   "execution_count": 5,
   "metadata": {},
   "outputs": [],
   "source": [
    "import random\n",
    "import urllib.request\n",
    "import os\n",
    "def dowload_image(url,idx):\n",
    "    try:\n",
    "        path = \"/home/hero/Downloads/data_crawl\"\n",
    "        name = path + f\"/image_crawl_{idx+len(os.listdir(path))}\" +\".jpg\"\n",
    "        \n",
    "        urllib.request.urlretrieve(url, name)\n",
    "    except:\n",
    "        pass"
   ]
  },
  {
   "cell_type": "code",
   "execution_count": 6,
   "metadata": {},
   "outputs": [],
   "source": [
    "# import requests\n",
    "# from bs4 import BeautifulSoup\n",
    "\n",
    "# # URL của trang web cần crawl hình ảnh\n",
    "# URL = \"https://unsplash.com/\"\n",
    "\n",
    "# # thực hiện yêu cầu HTTP và tải nội dung của trang web\n",
    "# response = requests.get(URL)\n",
    "\n",
    "# # tạo đối tượng BeautifulSoup từ nội dung trang web\n",
    "# soup = BeautifulSoup(response.content, 'html.parser')\n",
    "# paths = []\n",
    "\n",
    "# # tìm các thẻ có class là 'oCCRx' (thẻ chứa các hình ảnh)\n",
    "# images = soup.find_all('div', class_='MorZF')\n",
    "\n",
    "# for img in images:\n",
    "#     # lấy URL của hình ảnh từ thuộc tính 'src' của thẻ 'img'\n",
    "#     img_url = img.img['src']\n",
    "#     if img_url not in paths:\n",
    "#     # in URL của hình ảnh\n",
    "#         print(img_url)\n",
    "#         dowload_image(img_url)\n",
    "#     paths.append(img_url)\n"
   ]
  },
  {
   "cell_type": "code",
   "execution_count": 7,
   "metadata": {},
   "outputs": [
    {
     "name": "stderr",
     "output_type": "stream",
     "text": [
      "[WDM] - Downloading: 16.9kB [00:00, 8.66MB/s]                   \n",
      "/tmp/ipykernel_48742/2888843165.py:7: DeprecationWarning: executable_path has been deprecated, please pass in a Service object\n",
      "  driver = webdriver.Firefox(executable_path=GeckoDriverManager().install())\n"
     ]
    },
    {
     "name": "stdout",
     "output_type": "stream",
     "text": [
      "[<selenium.webdriver.remote.webelement.WebElement (session=\"647b206a-21a3-40e0-a8eb-8d18d0c6324e\", element=\"51142769-21e2-4c89-bd13-85c3ec0c056d\")>, <selenium.webdriver.remote.webelement.WebElement (session=\"647b206a-21a3-40e0-a8eb-8d18d0c6324e\", element=\"bcd4937b-5efe-46c4-ab8c-a81205e734f6\")>, <selenium.webdriver.remote.webelement.WebElement (session=\"647b206a-21a3-40e0-a8eb-8d18d0c6324e\", element=\"9c595ec8-9748-4ed2-a833-7ca772572c84\")>, <selenium.webdriver.remote.webelement.WebElement (session=\"647b206a-21a3-40e0-a8eb-8d18d0c6324e\", element=\"19e2995a-a9c3-4c4d-9b53-a6367d6fb343\")>, <selenium.webdriver.remote.webelement.WebElement (session=\"647b206a-21a3-40e0-a8eb-8d18d0c6324e\", element=\"f141a88e-140f-45a7-9a47-c62e409374f4\")>, <selenium.webdriver.remote.webelement.WebElement (session=\"647b206a-21a3-40e0-a8eb-8d18d0c6324e\", element=\"48a79371-d086-4f32-bbea-cc32fb1efa8c\")>, <selenium.webdriver.remote.webelement.WebElement (session=\"647b206a-21a3-40e0-a8eb-8d18d0c6324e\", element=\"1673e638-ea5f-4786-9976-6c2bccbde8e4\")>, <selenium.webdriver.remote.webelement.WebElement (session=\"647b206a-21a3-40e0-a8eb-8d18d0c6324e\", element=\"7f97802d-7fa2-4c35-9b8c-f7c4cdc553f2\")>, <selenium.webdriver.remote.webelement.WebElement (session=\"647b206a-21a3-40e0-a8eb-8d18d0c6324e\", element=\"00ee7b5b-999d-4e8a-8008-8f2308fa0752\")>, <selenium.webdriver.remote.webelement.WebElement (session=\"647b206a-21a3-40e0-a8eb-8d18d0c6324e\", element=\"0d743158-d0e8-403b-aaa7-cb09e8023f08\")>, <selenium.webdriver.remote.webelement.WebElement (session=\"647b206a-21a3-40e0-a8eb-8d18d0c6324e\", element=\"20e94831-df3d-4c8e-8b98-d78ab15bd219\")>, <selenium.webdriver.remote.webelement.WebElement (session=\"647b206a-21a3-40e0-a8eb-8d18d0c6324e\", element=\"a4885207-46fc-4ed8-b26c-f05c0cf1d523\")>, <selenium.webdriver.remote.webelement.WebElement (session=\"647b206a-21a3-40e0-a8eb-8d18d0c6324e\", element=\"c3113079-7cca-4187-a1da-f10cac7da7f0\")>, <selenium.webdriver.remote.webelement.WebElement (session=\"647b206a-21a3-40e0-a8eb-8d18d0c6324e\", element=\"db86f69a-f922-4ffa-bc07-ded49ec68220\")>, <selenium.webdriver.remote.webelement.WebElement (session=\"647b206a-21a3-40e0-a8eb-8d18d0c6324e\", element=\"bd8e1501-35a9-48f0-b406-c24c0e5668d2\")>, <selenium.webdriver.remote.webelement.WebElement (session=\"647b206a-21a3-40e0-a8eb-8d18d0c6324e\", element=\"ac873055-64d7-49e5-b80c-c502b45b008a\")>, <selenium.webdriver.remote.webelement.WebElement (session=\"647b206a-21a3-40e0-a8eb-8d18d0c6324e\", element=\"8ec6174d-aa58-4fe7-8205-754c55278ded\")>, <selenium.webdriver.remote.webelement.WebElement (session=\"647b206a-21a3-40e0-a8eb-8d18d0c6324e\", element=\"88f2e6fb-1715-4071-88b1-fa3a759909cb\")>, <selenium.webdriver.remote.webelement.WebElement (session=\"647b206a-21a3-40e0-a8eb-8d18d0c6324e\", element=\"bbdcac23-dc83-4048-9b68-43d87077edad\")>, <selenium.webdriver.remote.webelement.WebElement (session=\"647b206a-21a3-40e0-a8eb-8d18d0c6324e\", element=\"53de3981-bfc9-4e3a-ae3f-3c6de29d62c0\")>, <selenium.webdriver.remote.webelement.WebElement (session=\"647b206a-21a3-40e0-a8eb-8d18d0c6324e\", element=\"0e3cb050-c453-42b6-8ed9-6b6dd55c9516\")>, <selenium.webdriver.remote.webelement.WebElement (session=\"647b206a-21a3-40e0-a8eb-8d18d0c6324e\", element=\"c17158b7-5031-42eb-9fd6-5c4cfdfa5e10\")>, <selenium.webdriver.remote.webelement.WebElement (session=\"647b206a-21a3-40e0-a8eb-8d18d0c6324e\", element=\"942f3402-f072-4f96-b6e2-aa0cf88b4e73\")>, <selenium.webdriver.remote.webelement.WebElement (session=\"647b206a-21a3-40e0-a8eb-8d18d0c6324e\", element=\"4f2d7eef-4b7b-4986-a3bd-7b17e48ad013\")>, <selenium.webdriver.remote.webelement.WebElement (session=\"647b206a-21a3-40e0-a8eb-8d18d0c6324e\", element=\"700944ec-9287-4ff4-a192-bbe016e8d956\")>, <selenium.webdriver.remote.webelement.WebElement (session=\"647b206a-21a3-40e0-a8eb-8d18d0c6324e\", element=\"eb33abdc-bc0a-4a5b-a641-c9bd5bbe4c50\")>, <selenium.webdriver.remote.webelement.WebElement (session=\"647b206a-21a3-40e0-a8eb-8d18d0c6324e\", element=\"a4d7c752-b38d-480b-a933-45c5c71a9d60\")>, <selenium.webdriver.remote.webelement.WebElement (session=\"647b206a-21a3-40e0-a8eb-8d18d0c6324e\", element=\"63128229-ce52-49de-9d6c-e54e12dae44a\")>, <selenium.webdriver.remote.webelement.WebElement (session=\"647b206a-21a3-40e0-a8eb-8d18d0c6324e\", element=\"3886bb2f-099d-4250-84d2-b7543f85c5be\")>, <selenium.webdriver.remote.webelement.WebElement (session=\"647b206a-21a3-40e0-a8eb-8d18d0c6324e\", element=\"fcfec8ac-3954-42dd-90e9-9382c2940d4d\")>, <selenium.webdriver.remote.webelement.WebElement (session=\"647b206a-21a3-40e0-a8eb-8d18d0c6324e\", element=\"75e9a588-b2ec-4fca-87b9-1282e9216b7e\")>, <selenium.webdriver.remote.webelement.WebElement (session=\"647b206a-21a3-40e0-a8eb-8d18d0c6324e\", element=\"5965fcf8-b600-4a4c-82a1-a2b44ed3a19a\")>, <selenium.webdriver.remote.webelement.WebElement (session=\"647b206a-21a3-40e0-a8eb-8d18d0c6324e\", element=\"4885e390-72d1-41a6-a74d-ee7622f00d6f\")>, <selenium.webdriver.remote.webelement.WebElement (session=\"647b206a-21a3-40e0-a8eb-8d18d0c6324e\", element=\"4f3e7f06-5dc2-43e9-b22a-02cdf28dfeae\")>, <selenium.webdriver.remote.webelement.WebElement (session=\"647b206a-21a3-40e0-a8eb-8d18d0c6324e\", element=\"de4d2ee8-e0dc-4dc7-b3fe-4d78d52fb7d0\")>, <selenium.webdriver.remote.webelement.WebElement (session=\"647b206a-21a3-40e0-a8eb-8d18d0c6324e\", element=\"9026bbc2-2a28-4dd5-969c-9573eebb2990\")>, <selenium.webdriver.remote.webelement.WebElement (session=\"647b206a-21a3-40e0-a8eb-8d18d0c6324e\", element=\"0e5c024c-50b4-4130-8c8d-477fdcd4b5cf\")>, <selenium.webdriver.remote.webelement.WebElement (session=\"647b206a-21a3-40e0-a8eb-8d18d0c6324e\", element=\"473117e7-b902-476c-820a-0697245814c5\")>, <selenium.webdriver.remote.webelement.WebElement (session=\"647b206a-21a3-40e0-a8eb-8d18d0c6324e\", element=\"d3605a7a-d872-4ad3-b7ec-b68a9526c01e\")>, <selenium.webdriver.remote.webelement.WebElement (session=\"647b206a-21a3-40e0-a8eb-8d18d0c6324e\", element=\"a879a077-43ba-48fd-bb29-02c49157a1e3\")>, <selenium.webdriver.remote.webelement.WebElement (session=\"647b206a-21a3-40e0-a8eb-8d18d0c6324e\", element=\"4d3c4877-972b-4197-a726-470e9845da68\")>, <selenium.webdriver.remote.webelement.WebElement (session=\"647b206a-21a3-40e0-a8eb-8d18d0c6324e\", element=\"b007f1a8-4d18-46be-b517-9e547ea0dbb5\")>, <selenium.webdriver.remote.webelement.WebElement (session=\"647b206a-21a3-40e0-a8eb-8d18d0c6324e\", element=\"3028b88e-fd2a-4914-a8b1-be67fdadd646\")>, <selenium.webdriver.remote.webelement.WebElement (session=\"647b206a-21a3-40e0-a8eb-8d18d0c6324e\", element=\"d457fae7-b305-4854-9724-9aa52e4ae93b\")>, <selenium.webdriver.remote.webelement.WebElement (session=\"647b206a-21a3-40e0-a8eb-8d18d0c6324e\", element=\"88bcfb89-0ffe-4c06-96ca-61b80ac683a6\")>, <selenium.webdriver.remote.webelement.WebElement (session=\"647b206a-21a3-40e0-a8eb-8d18d0c6324e\", element=\"7c9145a9-7d04-4cc4-990e-565d5d874fd9\")>, <selenium.webdriver.remote.webelement.WebElement (session=\"647b206a-21a3-40e0-a8eb-8d18d0c6324e\", element=\"0b1b170c-7ca0-4156-9e00-62eaab7659ab\")>, <selenium.webdriver.remote.webelement.WebElement (session=\"647b206a-21a3-40e0-a8eb-8d18d0c6324e\", element=\"7fffaf31-02db-46ae-b002-fc1e786783ba\")>, <selenium.webdriver.remote.webelement.WebElement (session=\"647b206a-21a3-40e0-a8eb-8d18d0c6324e\", element=\"961a09fe-08c4-41e1-86e0-07791a0841b0\")>, <selenium.webdriver.remote.webelement.WebElement (session=\"647b206a-21a3-40e0-a8eb-8d18d0c6324e\", element=\"dac97fcf-f0f3-4cf4-8bfb-0fcdfd6722e8\")>, <selenium.webdriver.remote.webelement.WebElement (session=\"647b206a-21a3-40e0-a8eb-8d18d0c6324e\", element=\"8dd5fcdb-0b43-4278-9c58-2125290c5d84\")>, <selenium.webdriver.remote.webelement.WebElement (session=\"647b206a-21a3-40e0-a8eb-8d18d0c6324e\", element=\"06d9a233-beb5-469c-a835-279bb9cfb120\")>, <selenium.webdriver.remote.webelement.WebElement (session=\"647b206a-21a3-40e0-a8eb-8d18d0c6324e\", element=\"d18ca309-42e1-4314-9004-fb7fb58ddf3e\")>, <selenium.webdriver.remote.webelement.WebElement (session=\"647b206a-21a3-40e0-a8eb-8d18d0c6324e\", element=\"12eccc57-616d-4159-b355-6ec8d21071fc\")>, <selenium.webdriver.remote.webelement.WebElement (session=\"647b206a-21a3-40e0-a8eb-8d18d0c6324e\", element=\"80ca592f-c7dd-42a5-98a8-3cdfe5db627c\")>, <selenium.webdriver.remote.webelement.WebElement (session=\"647b206a-21a3-40e0-a8eb-8d18d0c6324e\", element=\"7aba46fd-8520-411c-9f22-225f45444a06\")>, <selenium.webdriver.remote.webelement.WebElement (session=\"647b206a-21a3-40e0-a8eb-8d18d0c6324e\", element=\"81130b82-9777-473c-851c-30b788f4cde8\")>, <selenium.webdriver.remote.webelement.WebElement (session=\"647b206a-21a3-40e0-a8eb-8d18d0c6324e\", element=\"2f108a4d-a908-408d-b4b6-503ca7720455\")>, <selenium.webdriver.remote.webelement.WebElement (session=\"647b206a-21a3-40e0-a8eb-8d18d0c6324e\", element=\"ba516336-531c-4c5b-8679-34a00f5e9e2b\")>, <selenium.webdriver.remote.webelement.WebElement (session=\"647b206a-21a3-40e0-a8eb-8d18d0c6324e\", element=\"8cae3919-bc30-4b48-812b-99ab5b64eff7\")>, <selenium.webdriver.remote.webelement.WebElement (session=\"647b206a-21a3-40e0-a8eb-8d18d0c6324e\", element=\"2dd24aea-7bb2-4b98-bc25-65a09f865c63\")>, <selenium.webdriver.remote.webelement.WebElement (session=\"647b206a-21a3-40e0-a8eb-8d18d0c6324e\", element=\"b785642d-e7cb-45e3-bc4f-bc5db6e4e5b8\")>, <selenium.webdriver.remote.webelement.WebElement (session=\"647b206a-21a3-40e0-a8eb-8d18d0c6324e\", element=\"5e6ba9e1-320f-40a1-883f-2b801c5edf57\")>, <selenium.webdriver.remote.webelement.WebElement (session=\"647b206a-21a3-40e0-a8eb-8d18d0c6324e\", element=\"9cd5eec8-c2f4-483c-87c5-2f98d9e47c45\")>, <selenium.webdriver.remote.webelement.WebElement (session=\"647b206a-21a3-40e0-a8eb-8d18d0c6324e\", element=\"437e73fd-66b5-46c2-95ac-47aa0ed27587\")>, <selenium.webdriver.remote.webelement.WebElement (session=\"647b206a-21a3-40e0-a8eb-8d18d0c6324e\", element=\"c755fa3c-b214-41a9-93b0-1a15f760f38c\")>, <selenium.webdriver.remote.webelement.WebElement (session=\"647b206a-21a3-40e0-a8eb-8d18d0c6324e\", element=\"f590923b-7e75-457b-972a-09023361b013\")>, <selenium.webdriver.remote.webelement.WebElement (session=\"647b206a-21a3-40e0-a8eb-8d18d0c6324e\", element=\"a56b0d70-9bdd-4cea-8064-bf11db550999\")>, <selenium.webdriver.remote.webelement.WebElement (session=\"647b206a-21a3-40e0-a8eb-8d18d0c6324e\", element=\"6cda97b3-a360-4254-af44-7b81a021349a\")>, <selenium.webdriver.remote.webelement.WebElement (session=\"647b206a-21a3-40e0-a8eb-8d18d0c6324e\", element=\"13e3bcb9-7c1c-4983-9d8c-bef7980ff65d\")>, <selenium.webdriver.remote.webelement.WebElement (session=\"647b206a-21a3-40e0-a8eb-8d18d0c6324e\", element=\"0bca2edf-5c59-4c7d-8a1d-77046fc607b2\")>, <selenium.webdriver.remote.webelement.WebElement (session=\"647b206a-21a3-40e0-a8eb-8d18d0c6324e\", element=\"abafb2a9-1364-4229-b466-940ad3044b1f\")>, <selenium.webdriver.remote.webelement.WebElement (session=\"647b206a-21a3-40e0-a8eb-8d18d0c6324e\", element=\"7e925111-b658-463a-a0e8-3d22595dc73d\")>, <selenium.webdriver.remote.webelement.WebElement (session=\"647b206a-21a3-40e0-a8eb-8d18d0c6324e\", element=\"c6cf64d3-7e72-4639-a472-98940bedac9f\")>, <selenium.webdriver.remote.webelement.WebElement (session=\"647b206a-21a3-40e0-a8eb-8d18d0c6324e\", element=\"2c2578f4-ebfe-4860-950d-4bb1376c10da\")>, <selenium.webdriver.remote.webelement.WebElement (session=\"647b206a-21a3-40e0-a8eb-8d18d0c6324e\", element=\"c30d81eb-9407-4518-b83f-c3e49fc27422\")>, <selenium.webdriver.remote.webelement.WebElement (session=\"647b206a-21a3-40e0-a8eb-8d18d0c6324e\", element=\"32bd578c-dd96-44e7-9440-a8d7d2b5167d\")>, <selenium.webdriver.remote.webelement.WebElement (session=\"647b206a-21a3-40e0-a8eb-8d18d0c6324e\", element=\"dcf23dba-9338-4829-87e3-688be04237dd\")>, <selenium.webdriver.remote.webelement.WebElement (session=\"647b206a-21a3-40e0-a8eb-8d18d0c6324e\", element=\"53a19f60-e1b0-45c3-b455-2dd0abfb554f\")>, <selenium.webdriver.remote.webelement.WebElement (session=\"647b206a-21a3-40e0-a8eb-8d18d0c6324e\", element=\"ae961f4b-56eb-455d-ae2e-847b27686066\")>, <selenium.webdriver.remote.webelement.WebElement (session=\"647b206a-21a3-40e0-a8eb-8d18d0c6324e\", element=\"b071a56c-422f-400b-86dc-5650637815db\")>, <selenium.webdriver.remote.webelement.WebElement (session=\"647b206a-21a3-40e0-a8eb-8d18d0c6324e\", element=\"167e9ec0-83c4-4756-81e9-28205a9e6ef6\")>, <selenium.webdriver.remote.webelement.WebElement (session=\"647b206a-21a3-40e0-a8eb-8d18d0c6324e\", element=\"25a91032-9e22-4cda-a4c9-846e15c6adaf\")>, <selenium.webdriver.remote.webelement.WebElement (session=\"647b206a-21a3-40e0-a8eb-8d18d0c6324e\", element=\"23cd9361-e116-4392-8d03-ebc529692c98\")>, <selenium.webdriver.remote.webelement.WebElement (session=\"647b206a-21a3-40e0-a8eb-8d18d0c6324e\", element=\"27ae21c0-fa38-4ade-a82f-850c4e56b034\")>, <selenium.webdriver.remote.webelement.WebElement (session=\"647b206a-21a3-40e0-a8eb-8d18d0c6324e\", element=\"29381f38-efcb-4704-b09b-df0c0544ebe5\")>]\n"
     ]
    },
    {
     "name": "stderr",
     "output_type": "stream",
     "text": [
      "86it [00:25,  3.34it/s]\n"
     ]
    }
   ],
   "source": [
    "from selenium import webdriver\n",
    "from selenium.webdriver.common.by import By\n",
    "from selenium.webdriver.common.keys import Keys\n",
    "from webdriver_manager.firefox import GeckoDriverManager\n",
    "import time\n",
    "from tqdm import tqdm\n",
    "driver = webdriver.Firefox(executable_path=GeckoDriverManager().install())\n",
    "\n",
    "driver.get('https://unsplash.com/')\n",
    "\n",
    "# Tìm kiếm ảnh và load thêm ảnh bằng cách scroll xuống đáy trang\n",
    "search_input = driver.find_element(By.XPATH, \"/html/body/div/div/header/nav/div[2]/form/div[1]/input\")\n",
    "search_input.send_keys(\"Travel\")\n",
    "search_input.send_keys(Keys.RETURN)\n",
    "\n",
    "time.sleep(5)\n",
    "scroll_pause_time = 1\n",
    "screen_height = driver.execute_script(\"return window.screen.height;\")\n",
    "i = 1\n",
    "\n",
    "while True:\n",
    "    scroll_height = driver.execute_script(\"return document.body.scrollHeight;\")\n",
    "    driver.execute_script(\"window.scrollTo(0, {0});\".format(screen_height * i))\n",
    "    time.sleep(scroll_pause_time)\n",
    "    new_scroll_height = driver.execute_script(\"return document.body.scrollHeight;\")\n",
    "    if new_scroll_height == scroll_height:\n",
    "        break\n",
    "    i += 1\n",
    "\n",
    "# Lấy link của ảnh\n",
    "image_elements = driver.find_elements(By.TAG_NAME, \"img\")\n",
    "print(image_elements)\n",
    "\n",
    "for idx, image_link in tqdm(enumerate(image_elements)):\n",
    "    class_name = image_link.get_attribute(\"class\")\n",
    "    image_link = image_link.get_attribute(\"src\")\n",
    "    if \"tB6UZ a5VGX\" in class_name:\n",
    "        dowload_image(image_link, idx)\n",
    "# image_links = [elem.get_attribute(\"src\") for elem in image_elements]\n",
    "# image_links\n",
    "# Đóng webdriver\n",
    "# driver.quit()"
   ]
  }
 ],
 "metadata": {
  "kernelspec": {
   "display_name": "botsort_env",
   "language": "python",
   "name": "python3"
  },
  "language_info": {
   "codemirror_mode": {
    "name": "ipython",
    "version": 3
   },
   "file_extension": ".py",
   "mimetype": "text/x-python",
   "name": "python",
   "nbconvert_exporter": "python",
   "pygments_lexer": "ipython3",
   "version": "3.8.16"
  },
  "orig_nbformat": 4,
  "vscode": {
   "interpreter": {
    "hash": "3c233d23438bb60fd5b094f58eaeabe926c58cbec7675aa79b291e053bb5b88a"
   }
  }
 },
 "nbformat": 4,
 "nbformat_minor": 2
}
